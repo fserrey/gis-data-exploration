{
 "cells": [
  {
   "cell_type": "code",
   "execution_count": 1,
   "id": "25885964",
   "metadata": {},
   "outputs": [],
   "source": [
    "import pandas as pd\n",
    "import numpy as np\n",
    "from pandas import json_normalize\n",
    "from datetime import datetime"
   ]
  },
  {
   "cell_type": "code",
   "execution_count": 2,
   "id": "27b4c446",
   "metadata": {},
   "outputs": [],
   "source": [
    "import matplotlib.pyplot as plt\n",
    "from bokeh.io import output_file, output_notebook, show\n",
    "from bokeh.models import (\n",
    "  GMapPlot, GMapOptions, ColumnDataSource, Circle, DataRange1d, PanTool, WheelZoomTool, BoxSelectTool\n",
    ")\n",
    "from bokeh.plotting import figure\n",
    "from bokeh.layouts import gridplot\n",
    "from bokeh.models.sources import ColumnDataSource\n",
    "from bokeh.sampledata.sample_geojson import geojson\n",
    "\n",
    "# notebook inspired by @rameerez"
   ]
  },
  {
   "cell_type": "code",
   "execution_count": 3,
   "id": "78731755",
   "metadata": {},
   "outputs": [
    {
     "data": {
      "text/html": [
       "<div>\n",
       "<style scoped>\n",
       "    .dataframe tbody tr th:only-of-type {\n",
       "        vertical-align: middle;\n",
       "    }\n",
       "\n",
       "    .dataframe tbody tr th {\n",
       "        vertical-align: top;\n",
       "    }\n",
       "\n",
       "    .dataframe thead th {\n",
       "        text-align: right;\n",
       "    }\n",
       "</style>\n",
       "<table border=\"1\" class=\"dataframe\">\n",
       "  <thead>\n",
       "    <tr style=\"text-align: right;\">\n",
       "      <th></th>\n",
       "      <th>_id</th>\n",
       "      <th>stations</th>\n",
       "    </tr>\n",
       "  </thead>\n",
       "  <tbody>\n",
       "    <tr>\n",
       "      <th>0</th>\n",
       "      <td>2021-05-01T00:23:14.845494</td>\n",
       "      <td>[{'activate': 1, 'name': 'Puerta del Sol A', '...</td>\n",
       "    </tr>\n",
       "    <tr>\n",
       "      <th>1</th>\n",
       "      <td>2021-05-01T01:23:20.563888</td>\n",
       "      <td>[{'activate': 1, 'name': 'Puerta del Sol A', '...</td>\n",
       "    </tr>\n",
       "    <tr>\n",
       "      <th>2</th>\n",
       "      <td>2021-05-01T02:23:20.606340</td>\n",
       "      <td>[{'activate': 1, 'name': 'Puerta del Sol A', '...</td>\n",
       "    </tr>\n",
       "    <tr>\n",
       "      <th>3</th>\n",
       "      <td>2021-05-01T03:23:21.653407</td>\n",
       "      <td>[{'activate': 1, 'name': 'Puerta del Sol A', '...</td>\n",
       "    </tr>\n",
       "    <tr>\n",
       "      <th>4</th>\n",
       "      <td>2021-05-01T04:23:21.823719</td>\n",
       "      <td>[{'activate': 1, 'name': 'Puerta del Sol A', '...</td>\n",
       "    </tr>\n",
       "  </tbody>\n",
       "</table>\n",
       "</div>"
      ],
      "text/plain": [
       "                          _id  \\\n",
       "0  2021-05-01T00:23:14.845494   \n",
       "1  2021-05-01T01:23:20.563888   \n",
       "2  2021-05-01T02:23:20.606340   \n",
       "3  2021-05-01T03:23:21.653407   \n",
       "4  2021-05-01T04:23:21.823719   \n",
       "\n",
       "                                            stations  \n",
       "0  [{'activate': 1, 'name': 'Puerta del Sol A', '...  \n",
       "1  [{'activate': 1, 'name': 'Puerta del Sol A', '...  \n",
       "2  [{'activate': 1, 'name': 'Puerta del Sol A', '...  \n",
       "3  [{'activate': 1, 'name': 'Puerta del Sol A', '...  \n",
       "4  [{'activate': 1, 'name': 'Puerta del Sol A', '...  "
      ]
     },
     "metadata": {},
     "output_type": "display_data"
    }
   ],
   "source": [
    "_path = './data/202105.json'\n",
    "\n",
    "_df = pd.read_json(_path, lines=True)\n",
    "display(_df.head())"
   ]
  },
  {
   "cell_type": "code",
   "execution_count": 4,
   "id": "98fc8df9",
   "metadata": {},
   "outputs": [],
   "source": [
    "frames = []\n",
    "\n",
    "for index, row in _df.iterrows():\n",
    "    timestamp= row['_id']\n",
    "    stations = json_normalize(row['stations'])\n",
    "    stations['timestamp'] = timestamp\n",
    "    frames.append(stations)"
   ]
  },
  {
   "cell_type": "code",
   "execution_count": 5,
   "id": "afa1dd54",
   "metadata": {},
   "outputs": [],
   "source": [
    "df_stations = pd.concat(frames)"
   ]
  },
  {
   "cell_type": "code",
   "execution_count": 6,
   "id": "d659b0a1",
   "metadata": {},
   "outputs": [],
   "source": [
    "station1 = df_stations.loc[df_stations['id'] == 174]\n",
    "station2 = df_stations.loc[df_stations['id'] == 101]\n",
    "station3 = df_stations.loc[df_stations['id'] == 3]"
   ]
  },
  {
   "cell_type": "code",
   "execution_count": 7,
   "id": "59cea76c",
   "metadata": {},
   "outputs": [],
   "source": [
    "def datetime(x):\n",
    "    return np.array(x, dtype=np.datetime64)"
   ]
  },
  {
   "cell_type": "code",
   "execution_count": 8,
   "id": "b1c8b0bd",
   "metadata": {},
   "outputs": [],
   "source": [
    "p1 = figure(x_axis_type=\"datetime\", title=\"Station free bases\")\n",
    "p1.grid.grid_line_alpha=0.3\n",
    "p1.xaxis.axis_label = 'Date'\n",
    "p1.yaxis.axis_label = '# of free bases'\n",
    "\n",
    "p1.line(datetime(station1['timestamp'].values), station1['free_bases'].values, color='#A6CEE3', legend_label=station1['name'].iloc[0])\n",
    "p1.legend.location = \"top_left\"\n",
    "\n",
    "aapl = np.array(station1['free_bases'].values)\n",
    "aapl_dates = np.array(station1['timestamp'].values, dtype=np.datetime64)\n",
    "\n",
    "window_size = 30\n",
    "window = np.ones(window_size)/float(window_size)\n",
    "aapl_avg = np.convolve(aapl, window, 'same')\n",
    "\n",
    "p2 = figure(x_axis_type=\"datetime\", title=\"Station free bases (average)\")\n",
    "p2.grid.grid_line_alpha = 0\n",
    "p2.xaxis.axis_label = 'Date'\n",
    "p2.yaxis.axis_label = '# of free bases'\n",
    "p2.ygrid.band_fill_color = \"olive\"\n",
    "p2.ygrid.band_fill_alpha = 0.1\n",
    "\n",
    "p2.circle(aapl_dates, aapl, size=4, legend_label='close',\n",
    "          color='darkgrey', alpha=0.2)\n",
    "\n",
    "p2.line(aapl_dates, aapl_avg, legend_label='avg', color='navy')\n",
    "p2.legend.location = \"top_left\""
   ]
  },
  {
   "cell_type": "code",
   "execution_count": 9,
   "id": "68fece9d",
   "metadata": {},
   "outputs": [
    {
     "data": {
      "text/html": [
       "\n",
       "    <div class=\"bk-root\">\n",
       "        <a href=\"https://bokeh.org\" target=\"_blank\" class=\"bk-logo bk-logo-small bk-logo-notebook\"></a>\n",
       "        <span id=\"1156\">Loading BokehJS ...</span>\n",
       "    </div>"
      ]
     },
     "metadata": {},
     "output_type": "display_data"
    },
    {
     "data": {
      "application/javascript": [
       "\n",
       "(function(root) {\n",
       "  function now() {\n",
       "    return new Date();\n",
       "  }\n",
       "\n",
       "  var force = true;\n",
       "\n",
       "  if (typeof root._bokeh_onload_callbacks === \"undefined\" || force === true) {\n",
       "    root._bokeh_onload_callbacks = [];\n",
       "    root._bokeh_is_loading = undefined;\n",
       "  }\n",
       "\n",
       "  var JS_MIME_TYPE = 'application/javascript';\n",
       "  var HTML_MIME_TYPE = 'text/html';\n",
       "  var EXEC_MIME_TYPE = 'application/vnd.bokehjs_exec.v0+json';\n",
       "  var CLASS_NAME = 'output_bokeh rendered_html';\n",
       "\n",
       "  /**\n",
       "   * Render data to the DOM node\n",
       "   */\n",
       "  function render(props, node) {\n",
       "    var script = document.createElement(\"script\");\n",
       "    node.appendChild(script);\n",
       "  }\n",
       "\n",
       "  /**\n",
       "   * Handle when an output is cleared or removed\n",
       "   */\n",
       "  function handleClearOutput(event, handle) {\n",
       "    var cell = handle.cell;\n",
       "\n",
       "    var id = cell.output_area._bokeh_element_id;\n",
       "    var server_id = cell.output_area._bokeh_server_id;\n",
       "    // Clean up Bokeh references\n",
       "    if (id != null && id in Bokeh.index) {\n",
       "      Bokeh.index[id].model.document.clear();\n",
       "      delete Bokeh.index[id];\n",
       "    }\n",
       "\n",
       "    if (server_id !== undefined) {\n",
       "      // Clean up Bokeh references\n",
       "      var cmd = \"from bokeh.io.state import curstate; print(curstate().uuid_to_server['\" + server_id + \"'].get_sessions()[0].document.roots[0]._id)\";\n",
       "      cell.notebook.kernel.execute(cmd, {\n",
       "        iopub: {\n",
       "          output: function(msg) {\n",
       "            var id = msg.content.text.trim();\n",
       "            if (id in Bokeh.index) {\n",
       "              Bokeh.index[id].model.document.clear();\n",
       "              delete Bokeh.index[id];\n",
       "            }\n",
       "          }\n",
       "        }\n",
       "      });\n",
       "      // Destroy server and session\n",
       "      var cmd = \"import bokeh.io.notebook as ion; ion.destroy_server('\" + server_id + \"')\";\n",
       "      cell.notebook.kernel.execute(cmd);\n",
       "    }\n",
       "  }\n",
       "\n",
       "  /**\n",
       "   * Handle when a new output is added\n",
       "   */\n",
       "  function handleAddOutput(event, handle) {\n",
       "    var output_area = handle.output_area;\n",
       "    var output = handle.output;\n",
       "\n",
       "    // limit handleAddOutput to display_data with EXEC_MIME_TYPE content only\n",
       "    if ((output.output_type != \"display_data\") || (!Object.prototype.hasOwnProperty.call(output.data, EXEC_MIME_TYPE))) {\n",
       "      return\n",
       "    }\n",
       "\n",
       "    var toinsert = output_area.element.find(\".\" + CLASS_NAME.split(' ')[0]);\n",
       "\n",
       "    if (output.metadata[EXEC_MIME_TYPE][\"id\"] !== undefined) {\n",
       "      toinsert[toinsert.length - 1].firstChild.textContent = output.data[JS_MIME_TYPE];\n",
       "      // store reference to embed id on output_area\n",
       "      output_area._bokeh_element_id = output.metadata[EXEC_MIME_TYPE][\"id\"];\n",
       "    }\n",
       "    if (output.metadata[EXEC_MIME_TYPE][\"server_id\"] !== undefined) {\n",
       "      var bk_div = document.createElement(\"div\");\n",
       "      bk_div.innerHTML = output.data[HTML_MIME_TYPE];\n",
       "      var script_attrs = bk_div.children[0].attributes;\n",
       "      for (var i = 0; i < script_attrs.length; i++) {\n",
       "        toinsert[toinsert.length - 1].firstChild.setAttribute(script_attrs[i].name, script_attrs[i].value);\n",
       "        toinsert[toinsert.length - 1].firstChild.textContent = bk_div.children[0].textContent\n",
       "      }\n",
       "      // store reference to server id on output_area\n",
       "      output_area._bokeh_server_id = output.metadata[EXEC_MIME_TYPE][\"server_id\"];\n",
       "    }\n",
       "  }\n",
       "\n",
       "  function register_renderer(events, OutputArea) {\n",
       "\n",
       "    function append_mime(data, metadata, element) {\n",
       "      // create a DOM node to render to\n",
       "      var toinsert = this.create_output_subarea(\n",
       "        metadata,\n",
       "        CLASS_NAME,\n",
       "        EXEC_MIME_TYPE\n",
       "      );\n",
       "      this.keyboard_manager.register_events(toinsert);\n",
       "      // Render to node\n",
       "      var props = {data: data, metadata: metadata[EXEC_MIME_TYPE]};\n",
       "      render(props, toinsert[toinsert.length - 1]);\n",
       "      element.append(toinsert);\n",
       "      return toinsert\n",
       "    }\n",
       "\n",
       "    /* Handle when an output is cleared or removed */\n",
       "    events.on('clear_output.CodeCell', handleClearOutput);\n",
       "    events.on('delete.Cell', handleClearOutput);\n",
       "\n",
       "    /* Handle when a new output is added */\n",
       "    events.on('output_added.OutputArea', handleAddOutput);\n",
       "\n",
       "    /**\n",
       "     * Register the mime type and append_mime function with output_area\n",
       "     */\n",
       "    OutputArea.prototype.register_mime_type(EXEC_MIME_TYPE, append_mime, {\n",
       "      /* Is output safe? */\n",
       "      safe: true,\n",
       "      /* Index of renderer in `output_area.display_order` */\n",
       "      index: 0\n",
       "    });\n",
       "  }\n",
       "\n",
       "  // register the mime type if in Jupyter Notebook environment and previously unregistered\n",
       "  if (root.Jupyter !== undefined) {\n",
       "    var events = require('base/js/events');\n",
       "    var OutputArea = require('notebook/js/outputarea').OutputArea;\n",
       "\n",
       "    if (OutputArea.prototype.mime_types().indexOf(EXEC_MIME_TYPE) == -1) {\n",
       "      register_renderer(events, OutputArea);\n",
       "    }\n",
       "  }\n",
       "\n",
       "  \n",
       "  if (typeof (root._bokeh_timeout) === \"undefined\" || force === true) {\n",
       "    root._bokeh_timeout = Date.now() + 5000;\n",
       "    root._bokeh_failed_load = false;\n",
       "  }\n",
       "\n",
       "  var NB_LOAD_WARNING = {'data': {'text/html':\n",
       "     \"<div style='background-color: #fdd'>\\n\"+\n",
       "     \"<p>\\n\"+\n",
       "     \"BokehJS does not appear to have successfully loaded. If loading BokehJS from CDN, this \\n\"+\n",
       "     \"may be due to a slow or bad network connection. Possible fixes:\\n\"+\n",
       "     \"</p>\\n\"+\n",
       "     \"<ul>\\n\"+\n",
       "     \"<li>re-rerun `output_notebook()` to attempt to load from CDN again, or</li>\\n\"+\n",
       "     \"<li>use INLINE resources instead, as so:</li>\\n\"+\n",
       "     \"</ul>\\n\"+\n",
       "     \"<code>\\n\"+\n",
       "     \"from bokeh.resources import INLINE\\n\"+\n",
       "     \"output_notebook(resources=INLINE)\\n\"+\n",
       "     \"</code>\\n\"+\n",
       "     \"</div>\"}};\n",
       "\n",
       "  function display_loaded() {\n",
       "    var el = document.getElementById(\"1156\");\n",
       "    if (el != null) {\n",
       "      el.textContent = \"BokehJS is loading...\";\n",
       "    }\n",
       "    if (root.Bokeh !== undefined) {\n",
       "      if (el != null) {\n",
       "        el.textContent = \"BokehJS \" + root.Bokeh.version + \" successfully loaded.\";\n",
       "      }\n",
       "    } else if (Date.now() < root._bokeh_timeout) {\n",
       "      setTimeout(display_loaded, 100)\n",
       "    }\n",
       "  }\n",
       "\n",
       "\n",
       "  function run_callbacks() {\n",
       "    try {\n",
       "      root._bokeh_onload_callbacks.forEach(function(callback) {\n",
       "        if (callback != null)\n",
       "          callback();\n",
       "      });\n",
       "    } finally {\n",
       "      delete root._bokeh_onload_callbacks\n",
       "    }\n",
       "    console.debug(\"Bokeh: all callbacks have finished\");\n",
       "  }\n",
       "\n",
       "  function load_libs(css_urls, js_urls, callback) {\n",
       "    if (css_urls == null) css_urls = [];\n",
       "    if (js_urls == null) js_urls = [];\n",
       "\n",
       "    root._bokeh_onload_callbacks.push(callback);\n",
       "    if (root._bokeh_is_loading > 0) {\n",
       "      console.debug(\"Bokeh: BokehJS is being loaded, scheduling callback at\", now());\n",
       "      return null;\n",
       "    }\n",
       "    if (js_urls == null || js_urls.length === 0) {\n",
       "      run_callbacks();\n",
       "      return null;\n",
       "    }\n",
       "    console.debug(\"Bokeh: BokehJS not loaded, scheduling load and callback at\", now());\n",
       "    root._bokeh_is_loading = css_urls.length + js_urls.length;\n",
       "\n",
       "    function on_load() {\n",
       "      root._bokeh_is_loading--;\n",
       "      if (root._bokeh_is_loading === 0) {\n",
       "        console.debug(\"Bokeh: all BokehJS libraries/stylesheets loaded\");\n",
       "        run_callbacks()\n",
       "      }\n",
       "    }\n",
       "\n",
       "    function on_error(url) {\n",
       "      console.error(\"failed to load \" + url);\n",
       "    }\n",
       "\n",
       "    for (let i = 0; i < css_urls.length; i++) {\n",
       "      const url = css_urls[i];\n",
       "      const element = document.createElement(\"link\");\n",
       "      element.onload = on_load;\n",
       "      element.onerror = on_error.bind(null, url);\n",
       "      element.rel = \"stylesheet\";\n",
       "      element.type = \"text/css\";\n",
       "      element.href = url;\n",
       "      console.debug(\"Bokeh: injecting link tag for BokehJS stylesheet: \", url);\n",
       "      document.body.appendChild(element);\n",
       "    }\n",
       "\n",
       "    const hashes = {\"https://cdn.bokeh.org/bokeh/release/bokeh-2.3.3.min.js\": \"dM3QQsP+wXdHg42wTqW85BjZQdLNNIXqlPw/BgKoExPmTG7ZLML4EGqLMfqHT6ON\", \"https://cdn.bokeh.org/bokeh/release/bokeh-tables-2.3.3.min.js\": \"8x57I4YuIfu8XyZfFo0XVr2WAT8EK4rh/uDe3wF7YuW2FNUSNEpJbsPaB1nJ2fz2\", \"https://cdn.bokeh.org/bokeh/release/bokeh-widgets-2.3.3.min.js\": \"3QTqdz9LyAm2i0sG5XTePsHec3UHWwVsrOL68SYRoAXsafvfAyqtQ+h440+qIBhS\"};\n",
       "\n",
       "    for (let i = 0; i < js_urls.length; i++) {\n",
       "      const url = js_urls[i];\n",
       "      const element = document.createElement('script');\n",
       "      element.onload = on_load;\n",
       "      element.onerror = on_error.bind(null, url);\n",
       "      element.async = false;\n",
       "      element.src = url;\n",
       "      if (url in hashes) {\n",
       "        element.crossOrigin = \"anonymous\";\n",
       "        element.integrity = \"sha384-\" + hashes[url];\n",
       "      }\n",
       "      console.debug(\"Bokeh: injecting script tag for BokehJS library: \", url);\n",
       "      document.head.appendChild(element);\n",
       "    }\n",
       "  };\n",
       "\n",
       "  function inject_raw_css(css) {\n",
       "    const element = document.createElement(\"style\");\n",
       "    element.appendChild(document.createTextNode(css));\n",
       "    document.body.appendChild(element);\n",
       "  }\n",
       "\n",
       "  \n",
       "  var js_urls = [\"https://cdn.bokeh.org/bokeh/release/bokeh-2.3.3.min.js\", \"https://cdn.bokeh.org/bokeh/release/bokeh-widgets-2.3.3.min.js\", \"https://cdn.bokeh.org/bokeh/release/bokeh-tables-2.3.3.min.js\"];\n",
       "  var css_urls = [];\n",
       "  \n",
       "\n",
       "  var inline_js = [\n",
       "    function(Bokeh) {\n",
       "      Bokeh.set_log_level(\"info\");\n",
       "    },\n",
       "    function(Bokeh) {\n",
       "    \n",
       "    \n",
       "    }\n",
       "  ];\n",
       "\n",
       "  function run_inline_js() {\n",
       "    \n",
       "    if (root.Bokeh !== undefined || force === true) {\n",
       "      \n",
       "    for (var i = 0; i < inline_js.length; i++) {\n",
       "      inline_js[i].call(root, root.Bokeh);\n",
       "    }\n",
       "    if (force === true) {\n",
       "        display_loaded();\n",
       "      }} else if (Date.now() < root._bokeh_timeout) {\n",
       "      setTimeout(run_inline_js, 100);\n",
       "    } else if (!root._bokeh_failed_load) {\n",
       "      console.log(\"Bokeh: BokehJS failed to load within specified timeout.\");\n",
       "      root._bokeh_failed_load = true;\n",
       "    } else if (force !== true) {\n",
       "      var cell = $(document.getElementById(\"1156\")).parents('.cell').data().cell;\n",
       "      cell.output_area.append_execute_result(NB_LOAD_WARNING)\n",
       "    }\n",
       "\n",
       "  }\n",
       "\n",
       "  if (root._bokeh_is_loading === 0) {\n",
       "    console.debug(\"Bokeh: BokehJS loaded, going straight to plotting\");\n",
       "    run_inline_js();\n",
       "  } else {\n",
       "    load_libs(css_urls, js_urls, function() {\n",
       "      console.debug(\"Bokeh: BokehJS plotting callback run at\", now());\n",
       "      run_inline_js();\n",
       "    });\n",
       "  }\n",
       "}(window));"
      ],
      "application/vnd.bokehjs_load.v0+json": "\n(function(root) {\n  function now() {\n    return new Date();\n  }\n\n  var force = true;\n\n  if (typeof root._bokeh_onload_callbacks === \"undefined\" || force === true) {\n    root._bokeh_onload_callbacks = [];\n    root._bokeh_is_loading = undefined;\n  }\n\n  \n\n  \n  if (typeof (root._bokeh_timeout) === \"undefined\" || force === true) {\n    root._bokeh_timeout = Date.now() + 5000;\n    root._bokeh_failed_load = false;\n  }\n\n  var NB_LOAD_WARNING = {'data': {'text/html':\n     \"<div style='background-color: #fdd'>\\n\"+\n     \"<p>\\n\"+\n     \"BokehJS does not appear to have successfully loaded. If loading BokehJS from CDN, this \\n\"+\n     \"may be due to a slow or bad network connection. Possible fixes:\\n\"+\n     \"</p>\\n\"+\n     \"<ul>\\n\"+\n     \"<li>re-rerun `output_notebook()` to attempt to load from CDN again, or</li>\\n\"+\n     \"<li>use INLINE resources instead, as so:</li>\\n\"+\n     \"</ul>\\n\"+\n     \"<code>\\n\"+\n     \"from bokeh.resources import INLINE\\n\"+\n     \"output_notebook(resources=INLINE)\\n\"+\n     \"</code>\\n\"+\n     \"</div>\"}};\n\n  function display_loaded() {\n    var el = document.getElementById(\"1156\");\n    if (el != null) {\n      el.textContent = \"BokehJS is loading...\";\n    }\n    if (root.Bokeh !== undefined) {\n      if (el != null) {\n        el.textContent = \"BokehJS \" + root.Bokeh.version + \" successfully loaded.\";\n      }\n    } else if (Date.now() < root._bokeh_timeout) {\n      setTimeout(display_loaded, 100)\n    }\n  }\n\n\n  function run_callbacks() {\n    try {\n      root._bokeh_onload_callbacks.forEach(function(callback) {\n        if (callback != null)\n          callback();\n      });\n    } finally {\n      delete root._bokeh_onload_callbacks\n    }\n    console.debug(\"Bokeh: all callbacks have finished\");\n  }\n\n  function load_libs(css_urls, js_urls, callback) {\n    if (css_urls == null) css_urls = [];\n    if (js_urls == null) js_urls = [];\n\n    root._bokeh_onload_callbacks.push(callback);\n    if (root._bokeh_is_loading > 0) {\n      console.debug(\"Bokeh: BokehJS is being loaded, scheduling callback at\", now());\n      return null;\n    }\n    if (js_urls == null || js_urls.length === 0) {\n      run_callbacks();\n      return null;\n    }\n    console.debug(\"Bokeh: BokehJS not loaded, scheduling load and callback at\", now());\n    root._bokeh_is_loading = css_urls.length + js_urls.length;\n\n    function on_load() {\n      root._bokeh_is_loading--;\n      if (root._bokeh_is_loading === 0) {\n        console.debug(\"Bokeh: all BokehJS libraries/stylesheets loaded\");\n        run_callbacks()\n      }\n    }\n\n    function on_error(url) {\n      console.error(\"failed to load \" + url);\n    }\n\n    for (let i = 0; i < css_urls.length; i++) {\n      const url = css_urls[i];\n      const element = document.createElement(\"link\");\n      element.onload = on_load;\n      element.onerror = on_error.bind(null, url);\n      element.rel = \"stylesheet\";\n      element.type = \"text/css\";\n      element.href = url;\n      console.debug(\"Bokeh: injecting link tag for BokehJS stylesheet: \", url);\n      document.body.appendChild(element);\n    }\n\n    const hashes = {\"https://cdn.bokeh.org/bokeh/release/bokeh-2.3.3.min.js\": \"dM3QQsP+wXdHg42wTqW85BjZQdLNNIXqlPw/BgKoExPmTG7ZLML4EGqLMfqHT6ON\", \"https://cdn.bokeh.org/bokeh/release/bokeh-tables-2.3.3.min.js\": \"8x57I4YuIfu8XyZfFo0XVr2WAT8EK4rh/uDe3wF7YuW2FNUSNEpJbsPaB1nJ2fz2\", \"https://cdn.bokeh.org/bokeh/release/bokeh-widgets-2.3.3.min.js\": \"3QTqdz9LyAm2i0sG5XTePsHec3UHWwVsrOL68SYRoAXsafvfAyqtQ+h440+qIBhS\"};\n\n    for (let i = 0; i < js_urls.length; i++) {\n      const url = js_urls[i];\n      const element = document.createElement('script');\n      element.onload = on_load;\n      element.onerror = on_error.bind(null, url);\n      element.async = false;\n      element.src = url;\n      if (url in hashes) {\n        element.crossOrigin = \"anonymous\";\n        element.integrity = \"sha384-\" + hashes[url];\n      }\n      console.debug(\"Bokeh: injecting script tag for BokehJS library: \", url);\n      document.head.appendChild(element);\n    }\n  };\n\n  function inject_raw_css(css) {\n    const element = document.createElement(\"style\");\n    element.appendChild(document.createTextNode(css));\n    document.body.appendChild(element);\n  }\n\n  \n  var js_urls = [\"https://cdn.bokeh.org/bokeh/release/bokeh-2.3.3.min.js\", \"https://cdn.bokeh.org/bokeh/release/bokeh-widgets-2.3.3.min.js\", \"https://cdn.bokeh.org/bokeh/release/bokeh-tables-2.3.3.min.js\"];\n  var css_urls = [];\n  \n\n  var inline_js = [\n    function(Bokeh) {\n      Bokeh.set_log_level(\"info\");\n    },\n    function(Bokeh) {\n    \n    \n    }\n  ];\n\n  function run_inline_js() {\n    \n    if (root.Bokeh !== undefined || force === true) {\n      \n    for (var i = 0; i < inline_js.length; i++) {\n      inline_js[i].call(root, root.Bokeh);\n    }\n    if (force === true) {\n        display_loaded();\n      }} else if (Date.now() < root._bokeh_timeout) {\n      setTimeout(run_inline_js, 100);\n    } else if (!root._bokeh_failed_load) {\n      console.log(\"Bokeh: BokehJS failed to load within specified timeout.\");\n      root._bokeh_failed_load = true;\n    } else if (force !== true) {\n      var cell = $(document.getElementById(\"1156\")).parents('.cell').data().cell;\n      cell.output_area.append_execute_result(NB_LOAD_WARNING)\n    }\n\n  }\n\n  if (root._bokeh_is_loading === 0) {\n    console.debug(\"Bokeh: BokehJS loaded, going straight to plotting\");\n    run_inline_js();\n  } else {\n    load_libs(css_urls, js_urls, function() {\n      console.debug(\"Bokeh: BokehJS plotting callback run at\", now());\n      run_inline_js();\n    });\n  }\n}(window));"
     },
     "metadata": {},
     "output_type": "display_data"
    },
    {
     "data": {
      "text/html": [
       "\n",
       "\n",
       "\n",
       "\n",
       "\n",
       "\n",
       "  <div class=\"bk-root\" id=\"a724edb8-d639-49a6-86de-3e114eb4dba6\" data-root-id=\"1208\"></div>\n"
      ]
     },
     "metadata": {},
     "output_type": "display_data"
    },
    {
     "data": {
      "application/javascript": [
       "(function(root) {\n",
       "  function embed_document(root) {\n",
       "    \n",
       "  var docs_json = {\"6e12cc18-a5a5-4ecb-a9f0-41d343d96854\":{\"defs\":[],\"roots\":{\"references\":[{\"attributes\":{\"children\":[{\"id\":\"1207\"},{\"id\":\"1205\"}]},\"id\":\"1208\",\"type\":\"Column\"},{\"attributes\":{\"mantissas\":[1,2,5],\"max_interval\":500.0,\"num_minor_ticks\":0},\"id\":\"1112\",\"type\":\"AdaptiveTicker\"},{\"attributes\":{\"base\":60,\"mantissas\":[1,2,5,10,15,20,30],\"max_interval\":1800000.0,\"min_interval\":1000.0,\"num_minor_ticks\":0},\"id\":\"1113\",\"type\":\"AdaptiveTicker\"},{\"attributes\":{\"base\":24,\"mantissas\":[1,2,4,6,8,12],\"max_interval\":43200000.0,\"min_interval\":3600000.0,\"num_minor_ticks\":0},\"id\":\"1114\",\"type\":\"AdaptiveTicker\"},{\"attributes\":{},\"id\":\"1123\",\"type\":\"YearsTicker\"},{\"attributes\":{\"months\":[0,1,2,3,4,5,6,7,8,9,10,11]},\"id\":\"1119\",\"type\":\"MonthsTicker\"},{\"attributes\":{\"days\":[1,15]},\"id\":\"1118\",\"type\":\"DaysTicker\"},{\"attributes\":{\"days\":[1,2,3,4,5,6,7,8,9,10,11,12,13,14,15,16,17,18,19,20,21,22,23,24,25,26,27,28,29,30,31]},\"id\":\"1115\",\"type\":\"DaysTicker\"},{\"attributes\":{\"days\":[1,4,7,10,13,16,19,22,25,28]},\"id\":\"1116\",\"type\":\"DaysTicker\"},{\"attributes\":{\"days\":[1,8,15,22]},\"id\":\"1117\",\"type\":\"DaysTicker\"},{\"attributes\":{\"months\":[0,6]},\"id\":\"1122\",\"type\":\"MonthsTicker\"},{\"attributes\":{\"months\":[0,2,4,6,8,10]},\"id\":\"1120\",\"type\":\"MonthsTicker\"},{\"attributes\":{\"months\":[0,4,8]},\"id\":\"1059\",\"type\":\"MonthsTicker\"},{\"attributes\":{\"months\":[0,4,8]},\"id\":\"1121\",\"type\":\"MonthsTicker\"},{\"attributes\":{\"mantissas\":[1,2,5],\"max_interval\":500.0,\"num_minor_ticks\":0},\"id\":\"1050\",\"type\":\"AdaptiveTicker\"},{\"attributes\":{\"base\":60,\"mantissas\":[1,2,5,10,15,20,30],\"max_interval\":1800000.0,\"min_interval\":1000.0,\"num_minor_ticks\":0},\"id\":\"1051\",\"type\":\"AdaptiveTicker\"},{\"attributes\":{},\"id\":\"1048\",\"type\":\"UnionRenderers\"},{\"attributes\":{\"fill_alpha\":{\"value\":0.2},\"fill_color\":{\"value\":\"darkgrey\"},\"line_alpha\":{\"value\":0.2},\"line_color\":{\"value\":\"darkgrey\"},\"x\":{\"field\":\"x\"},\"y\":{\"field\":\"y\"}},\"id\":\"1098\",\"type\":\"Circle\"},{\"attributes\":{},\"id\":\"1047\",\"type\":\"Selection\"},{\"attributes\":{},\"id\":\"1041\",\"type\":\"BasicTickFormatter\"},{\"attributes\":{},\"id\":\"1061\",\"type\":\"YearsTicker\"},{\"attributes\":{\"base\":24,\"mantissas\":[1,2,4,6,8,12],\"max_interval\":43200000.0,\"min_interval\":3600000.0,\"num_minor_ticks\":0},\"id\":\"1052\",\"type\":\"AdaptiveTicker\"},{\"attributes\":{\"months\":[0,1,2,3,4,5,6,7,8,9,10,11]},\"id\":\"1057\",\"type\":\"MonthsTicker\"},{\"attributes\":{\"days\":[1,15]},\"id\":\"1056\",\"type\":\"DaysTicker\"},{\"attributes\":{\"days\":[1,4,7,10,13,16,19,22,25,28]},\"id\":\"1054\",\"type\":\"DaysTicker\"},{\"attributes\":{\"days\":[1,2,3,4,5,6,7,8,9,10,11,12,13,14,15,16,17,18,19,20,21,22,23,24,25,26,27,28,29,30,31]},\"id\":\"1053\",\"type\":\"DaysTicker\"},{\"attributes\":{\"days\":[1,8,15,22]},\"id\":\"1055\",\"type\":\"DaysTicker\"},{\"attributes\":{\"months\":[0,2,4,6,8,10]},\"id\":\"1058\",\"type\":\"MonthsTicker\"},{\"attributes\":{\"bottom_units\":\"screen\",\"fill_alpha\":0.5,\"fill_color\":\"lightgrey\",\"left_units\":\"screen\",\"level\":\"overlay\",\"line_alpha\":1.0,\"line_color\":\"black\",\"line_dash\":[4,4],\"line_width\":2,\"right_units\":\"screen\",\"syncable\":false,\"top_units\":\"screen\"},\"id\":\"1027\",\"type\":\"BoxAnnotation\"},{\"attributes\":{\"data_source\":{\"id\":\"1035\"},\"glyph\":{\"id\":\"1036\"},\"hover_glyph\":null,\"muted_glyph\":null,\"nonselection_glyph\":{\"id\":\"1037\"},\"view\":{\"id\":\"1039\"}},\"id\":\"1038\",\"type\":\"GlyphRenderer\"},{\"attributes\":{\"label\":{\"value\":\"avg\"},\"renderers\":[{\"id\":\"1129\"}]},\"id\":\"1155\",\"type\":\"LegendItem\"},{\"attributes\":{\"months\":[0,6]},\"id\":\"1060\",\"type\":\"MonthsTicker\"},{\"attributes\":{\"source\":{\"id\":\"1126\"}},\"id\":\"1130\",\"type\":\"CDSView\"},{\"attributes\":{\"line_alpha\":0.1,\"line_color\":\"navy\",\"x\":{\"field\":\"x\"},\"y\":{\"field\":\"y\"}},\"id\":\"1128\",\"type\":\"Line\"},{\"attributes\":{\"line_color\":\"navy\",\"x\":{\"field\":\"x\"},\"y\":{\"field\":\"y\"}},\"id\":\"1127\",\"type\":\"Line\"},{\"attributes\":{\"label\":{\"value\":\"close\"},\"renderers\":[{\"id\":\"1100\"}]},\"id\":\"1125\",\"type\":\"LegendItem\"},{\"attributes\":{\"data\":{\"x\":{\"__ndarray__\":\"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\",\"dtype\":\"float64\",\"order\":\"little\",\"shape\":[742]},\"y\":{\"__ndarray__\":\"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\",\"dtype\":\"float64\",\"order\":\"little\",\"shape\":[742]}},\"selected\":{\"id\":\"1140\"},\"selection_policy\":{\"id\":\"1141\"}},\"id\":\"1126\",\"type\":\"ColumnDataSource\"},{\"attributes\":{},\"id\":\"1140\",\"type\":\"Selection\"},{\"attributes\":{\"source\":{\"id\":\"1097\"}},\"id\":\"1101\",\"type\":\"CDSView\"},{\"attributes\":{},\"id\":\"1141\",\"type\":\"UnionRenderers\"},{\"attributes\":{\"data_source\":{\"id\":\"1097\"},\"glyph\":{\"id\":\"1098\"},\"hover_glyph\":null,\"muted_glyph\":null,\"nonselection_glyph\":{\"id\":\"1099\"},\"view\":{\"id\":\"1101\"}},\"id\":\"1100\",\"type\":\"GlyphRenderer\"},{\"attributes\":{\"fill_alpha\":{\"value\":0.1},\"fill_color\":{\"value\":\"darkgrey\"},\"line_alpha\":{\"value\":0.1},\"line_color\":{\"value\":\"darkgrey\"},\"x\":{\"field\":\"x\"},\"y\":{\"field\":\"y\"}},\"id\":\"1099\",\"type\":\"Circle\"},{\"attributes\":{\"items\":[{\"id\":\"1125\"},{\"id\":\"1155\"}],\"location\":\"top_left\"},\"id\":\"1124\",\"type\":\"Legend\"},{\"attributes\":{\"children\":[[{\"id\":\"1002\"},0,0],[{\"id\":\"1064\"},0,1]]},\"id\":\"1205\",\"type\":\"GridBox\"},{\"attributes\":{},\"id\":\"1067\",\"type\":\"DataRange1d\"},{\"attributes\":{},\"id\":\"1071\",\"type\":\"LinearScale\"},{\"attributes\":{\"text\":\"Station free bases (average)\"},\"id\":\"1065\",\"type\":\"Title\"},{\"attributes\":{},\"id\":\"1069\",\"type\":\"DataRange1d\"},{\"attributes\":{\"data_source\":{\"id\":\"1126\"},\"glyph\":{\"id\":\"1127\"},\"hover_glyph\":null,\"muted_glyph\":null,\"nonselection_glyph\":{\"id\":\"1128\"},\"view\":{\"id\":\"1130\"}},\"id\":\"1129\",\"type\":\"GlyphRenderer\"},{\"attributes\":{},\"id\":\"1073\",\"type\":\"LinearScale\"},{\"attributes\":{\"below\":[{\"id\":\"1075\"}],\"center\":[{\"id\":\"1078\"},{\"id\":\"1082\"},{\"id\":\"1124\"}],\"height\":400,\"left\":[{\"id\":\"1079\"}],\"renderers\":[{\"id\":\"1100\"},{\"id\":\"1129\"}],\"title\":{\"id\":\"1065\"},\"toolbar\":{\"id\":\"1090\"},\"toolbar_location\":null,\"width\":400,\"x_range\":{\"id\":\"1067\"},\"x_scale\":{\"id\":\"1071\"},\"y_range\":{\"id\":\"1069\"},\"y_scale\":{\"id\":\"1073\"}},\"id\":\"1064\",\"subtype\":\"Figure\",\"type\":\"Plot\"},{\"attributes\":{\"axis_label\":\"Date\",\"formatter\":{\"id\":\"1106\"},\"major_label_policy\":{\"id\":\"1108\"},\"ticker\":{\"id\":\"1076\"}},\"id\":\"1075\",\"type\":\"DatetimeAxis\"},{\"attributes\":{\"num_minor_ticks\":5,\"tickers\":[{\"id\":\"1112\"},{\"id\":\"1113\"},{\"id\":\"1114\"},{\"id\":\"1115\"},{\"id\":\"1116\"},{\"id\":\"1117\"},{\"id\":\"1118\"},{\"id\":\"1119\"},{\"id\":\"1120\"},{\"id\":\"1121\"},{\"id\":\"1122\"},{\"id\":\"1123\"}]},\"id\":\"1076\",\"type\":\"DatetimeTicker\"},{\"attributes\":{\"axis\":{\"id\":\"1075\"},\"grid_line_alpha\":0,\"ticker\":null},\"id\":\"1078\",\"type\":\"Grid\"},{\"attributes\":{\"below\":[{\"id\":\"1013\"}],\"center\":[{\"id\":\"1016\"},{\"id\":\"1020\"},{\"id\":\"1062\"}],\"height\":400,\"left\":[{\"id\":\"1017\"}],\"renderers\":[{\"id\":\"1038\"}],\"title\":{\"id\":\"1003\"},\"toolbar\":{\"id\":\"1028\"},\"toolbar_location\":null,\"width\":400,\"x_range\":{\"id\":\"1005\"},\"x_scale\":{\"id\":\"1009\"},\"y_range\":{\"id\":\"1007\"},\"y_scale\":{\"id\":\"1011\"}},\"id\":\"1002\",\"subtype\":\"Figure\",\"type\":\"Plot\"},{\"attributes\":{},\"id\":\"1088\",\"type\":\"HelpTool\"},{\"attributes\":{\"axis_label\":\"# of free bases\",\"formatter\":{\"id\":\"1103\"},\"major_label_policy\":{\"id\":\"1105\"},\"ticker\":{\"id\":\"1080\"}},\"id\":\"1079\",\"type\":\"LinearAxis\"},{\"attributes\":{\"text\":\"Station free bases\"},\"id\":\"1003\",\"type\":\"Title\"},{\"attributes\":{\"axis\":{\"id\":\"1079\"},\"band_fill_alpha\":0.1,\"band_fill_color\":\"olive\",\"dimension\":1,\"grid_line_alpha\":0,\"ticker\":null},\"id\":\"1082\",\"type\":\"Grid\"},{\"attributes\":{},\"id\":\"1080\",\"type\":\"BasicTicker\"},{\"attributes\":{},\"id\":\"1009\",\"type\":\"LinearScale\"},{\"attributes\":{\"data\":{\"x\":{\"__ndarray__\":\"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\",\"dtype\":\"float64\",\"order\":\"little\",\"shape\":[742]},\"y\":[16,15,15,15,14,14,14,14,14,14,16,16,14,17,21,20,19,19,19,19,17,15,17,17,12,11,11,11,10,10,10,10,10,10,12,12,14,14,15,9,9,7,10,7,6,7,10,10,8,8,8,8,8,8,8,8,8,7,10,10,12,12,11,12,9,11,12,10,10,10,11,11,9,9,9,9,9,9,9,9,11,14,17,18,20,19,20,19,13,15,15,13,12,8,5,4,4,4,4,4,4,4,4,4,6,10,14,14,13,13,13,11,10,10,11,10,8,3,1,2,0,0,4,4,4,4,4,6,14,16,20,20,19,19,18,15,18,15,16,17,16,15,11,12,12,12,12,12,12,12,12,12,15,18,18,20,20,19,21,18,15,11,10,9,10,2,0,3,1,0,0,3,3,3,3,5,5,7,9,11,9,13,13,13,10,5,5,6,3,3,0,5,6,8,7,8,8,8,7,6,7,8,11,12,13,11,11,11,10,9,11,11,12,13,17,14,15,15,15,15,15,15,15,15,16,19,19,16,16,17,15,13,11,10,12,9,11,9,3,2,0,0,0,4,4,4,4,4,8,15,19,19,19,18,20,18,18,16,16,16,14,14,13,8,8,6,5,5,5,5,5,5,8,8,8,10,12,12,12,12,12,12,13,14,12,14,12,10,8,7,7,7,7,7,7,7,12,13,16,18,18,18,20,15,11,11,10,11,12,10,9,10,7,6,6,6,6,6,6,6,11,13,16,19,19,17,17,15,16,16,16,16,16,16,16,14,11,6,3,5,5,6,6,5,5,7,11,12,10,8,15,13,7,9,8,0,5,0,0,0,18,18,20,21,21,21,21,21,22,23,22,23,23,23,21,22,19,22,19,19,21,18,22,21,20,20,20,20,20,19,19,19,20,21,22,7,23,23,22,18,19,19,20,22,22,20,10,3,0,1,1,1,0,0,0,1,3,4,7,11,15,18,17,14,16,16,17,17,16,16,17,15,14,13,13,13,13,13,14,19,22,21,21,20,20,16,16,16,4,5,8,6,4,3,2,2,2,2,2,2,2,2,4,10,16,16,20,22,22,22,22,21,22,22,23,22,20,19,19,19,5,1,1,1,1,1,2,5,7,10,19,19,19,18,20,19,20,19,20,18,18,19,17,14,13,13,13,13,13,13,13,12,14,19,19,18,18,15,14,16,14,15,21,20,20,21,18,16,16,16,16,15,15,15,15,16,12,14,15,15,15,16,15,19,16,15,15,15,16,16,14,13,14,14,14,14,14,14,18,21,24,24,23,24,23,21,22,22,22,19,16,12,13,13,13,12,12,12,12,12,12,12,13,17,20,21,22,20,18,16,15,16,16,18,16,14,10,8,5,4,4,2,2,2,2,2,8,9,15,15,20,19,19,17,15,18,17,18,16,10,7,5,6,5,6,6,4,4,4,4,6,9,17,18,20,19,20,18,18,19,20,17,15,18,17,10,4,4,3,1,1,1,2,3,9,15,14,17,19,20,16,15,17,15,15,17,17,15,15,14,12,11,10,10,10,10,9,9,9,10,12,15,18,18,17,15,15,15,15,15,15,15,15,15,15,15,15,15,15,15,15,15,15,15,15,16,16,14,13,12,15,16,17,19,15,15,10,16,13,13,13,13,13,13,13,13,17,17,17,17,18,19,19,16,9,8,12,10,8,6,3,3]},\"selected\":{\"id\":\"1109\"},\"selection_policy\":{\"id\":\"1110\"}},\"id\":\"1097\",\"type\":\"ColumnDataSource\"},{\"attributes\":{\"active_multi\":null,\"tools\":[{\"id\":\"1083\"},{\"id\":\"1084\"},{\"id\":\"1085\"},{\"id\":\"1086\"},{\"id\":\"1087\"},{\"id\":\"1088\"}]},\"id\":\"1090\",\"type\":\"Toolbar\"},{\"attributes\":{},\"id\":\"1084\",\"type\":\"WheelZoomTool\"},{\"attributes\":{},\"id\":\"1005\",\"type\":\"DataRange1d\"},{\"attributes\":{},\"id\":\"1083\",\"type\":\"PanTool\"},{\"attributes\":{},\"id\":\"1007\",\"type\":\"DataRange1d\"},{\"attributes\":{\"overlay\":{\"id\":\"1089\"}},\"id\":\"1085\",\"type\":\"BoxZoomTool\"},{\"attributes\":{},\"id\":\"1011\",\"type\":\"LinearScale\"},{\"attributes\":{},\"id\":\"1103\",\"type\":\"BasicTickFormatter\"},{\"attributes\":{},\"id\":\"1086\",\"type\":\"SaveTool\"},{\"attributes\":{},\"id\":\"1105\",\"type\":\"AllLabels\"},{\"attributes\":{},\"id\":\"1087\",\"type\":\"ResetTool\"},{\"attributes\":{\"axis_label\":\"Date\",\"formatter\":{\"id\":\"1044\"},\"major_label_policy\":{\"id\":\"1046\"},\"ticker\":{\"id\":\"1014\"}},\"id\":\"1013\",\"type\":\"DatetimeAxis\"},{\"attributes\":{\"num_minor_ticks\":5,\"tickers\":[{\"id\":\"1050\"},{\"id\":\"1051\"},{\"id\":\"1052\"},{\"id\":\"1053\"},{\"id\":\"1054\"},{\"id\":\"1055\"},{\"id\":\"1056\"},{\"id\":\"1057\"},{\"id\":\"1058\"},{\"id\":\"1059\"},{\"id\":\"1060\"},{\"id\":\"1061\"}]},\"id\":\"1014\",\"type\":\"DatetimeTicker\"},{\"attributes\":{\"axis\":{\"id\":\"1013\"},\"grid_line_alpha\":0.3,\"ticker\":null},\"id\":\"1016\",\"type\":\"Grid\"},{\"attributes\":{\"line_alpha\":0.1,\"line_color\":\"#A6CEE3\",\"x\":{\"field\":\"x\"},\"y\":{\"field\":\"y\"}},\"id\":\"1037\",\"type\":\"Line\"},{\"attributes\":{},\"id\":\"1106\",\"type\":\"DatetimeTickFormatter\"},{\"attributes\":{},\"id\":\"1108\",\"type\":\"AllLabels\"},{\"attributes\":{\"toolbar\":{\"id\":\"1206\"},\"toolbar_location\":\"above\"},\"id\":\"1207\",\"type\":\"ToolbarBox\"},{\"attributes\":{},\"id\":\"1026\",\"type\":\"HelpTool\"},{\"attributes\":{\"axis_label\":\"# of free bases\",\"formatter\":{\"id\":\"1041\"},\"major_label_policy\":{\"id\":\"1043\"},\"ticker\":{\"id\":\"1018\"}},\"id\":\"1017\",\"type\":\"LinearAxis\"},{\"attributes\":{\"axis\":{\"id\":\"1017\"},\"dimension\":1,\"grid_line_alpha\":0.3,\"ticker\":null},\"id\":\"1020\",\"type\":\"Grid\"},{\"attributes\":{},\"id\":\"1018\",\"type\":\"BasicTicker\"},{\"attributes\":{\"active_multi\":null,\"tools\":[{\"id\":\"1021\"},{\"id\":\"1022\"},{\"id\":\"1023\"},{\"id\":\"1024\"},{\"id\":\"1025\"},{\"id\":\"1026\"}]},\"id\":\"1028\",\"type\":\"Toolbar\"},{\"attributes\":{},\"id\":\"1022\",\"type\":\"WheelZoomTool\"},{\"attributes\":{},\"id\":\"1021\",\"type\":\"PanTool\"},{\"attributes\":{\"overlay\":{\"id\":\"1027\"}},\"id\":\"1023\",\"type\":\"BoxZoomTool\"},{\"attributes\":{},\"id\":\"1024\",\"type\":\"SaveTool\"},{\"attributes\":{},\"id\":\"1025\",\"type\":\"ResetTool\"},{\"attributes\":{\"data\":{\"x\":{\"__ndarray__\":\"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\",\"dtype\":\"float64\",\"order\":\"little\",\"shape\":[742]},\"y\":[16,15,15,15,14,14,14,14,14,14,16,16,14,17,21,20,19,19,19,19,17,15,17,17,12,11,11,11,10,10,10,10,10,10,12,12,14,14,15,9,9,7,10,7,6,7,10,10,8,8,8,8,8,8,8,8,8,7,10,10,12,12,11,12,9,11,12,10,10,10,11,11,9,9,9,9,9,9,9,9,11,14,17,18,20,19,20,19,13,15,15,13,12,8,5,4,4,4,4,4,4,4,4,4,6,10,14,14,13,13,13,11,10,10,11,10,8,3,1,2,0,0,4,4,4,4,4,6,14,16,20,20,19,19,18,15,18,15,16,17,16,15,11,12,12,12,12,12,12,12,12,12,15,18,18,20,20,19,21,18,15,11,10,9,10,2,0,3,1,0,0,3,3,3,3,5,5,7,9,11,9,13,13,13,10,5,5,6,3,3,0,5,6,8,7,8,8,8,7,6,7,8,11,12,13,11,11,11,10,9,11,11,12,13,17,14,15,15,15,15,15,15,15,15,16,19,19,16,16,17,15,13,11,10,12,9,11,9,3,2,0,0,0,4,4,4,4,4,8,15,19,19,19,18,20,18,18,16,16,16,14,14,13,8,8,6,5,5,5,5,5,5,8,8,8,10,12,12,12,12,12,12,13,14,12,14,12,10,8,7,7,7,7,7,7,7,12,13,16,18,18,18,20,15,11,11,10,11,12,10,9,10,7,6,6,6,6,6,6,6,11,13,16,19,19,17,17,15,16,16,16,16,16,16,16,14,11,6,3,5,5,6,6,5,5,7,11,12,10,8,15,13,7,9,8,0,5,0,0,0,18,18,20,21,21,21,21,21,22,23,22,23,23,23,21,22,19,22,19,19,21,18,22,21,20,20,20,20,20,19,19,19,20,21,22,7,23,23,22,18,19,19,20,22,22,20,10,3,0,1,1,1,0,0,0,1,3,4,7,11,15,18,17,14,16,16,17,17,16,16,17,15,14,13,13,13,13,13,14,19,22,21,21,20,20,16,16,16,4,5,8,6,4,3,2,2,2,2,2,2,2,2,4,10,16,16,20,22,22,22,22,21,22,22,23,22,20,19,19,19,5,1,1,1,1,1,2,5,7,10,19,19,19,18,20,19,20,19,20,18,18,19,17,14,13,13,13,13,13,13,13,12,14,19,19,18,18,15,14,16,14,15,21,20,20,21,18,16,16,16,16,15,15,15,15,16,12,14,15,15,15,16,15,19,16,15,15,15,16,16,14,13,14,14,14,14,14,14,18,21,24,24,23,24,23,21,22,22,22,19,16,12,13,13,13,12,12,12,12,12,12,12,13,17,20,21,22,20,18,16,15,16,16,18,16,14,10,8,5,4,4,2,2,2,2,2,8,9,15,15,20,19,19,17,15,18,17,18,16,10,7,5,6,5,6,6,4,4,4,4,6,9,17,18,20,19,20,18,18,19,20,17,15,18,17,10,4,4,3,1,1,1,2,3,9,15,14,17,19,20,16,15,17,15,15,17,17,15,15,14,12,11,10,10,10,10,9,9,9,10,12,15,18,18,17,15,15,15,15,15,15,15,15,15,15,15,15,15,15,15,15,15,15,15,15,16,16,14,13,12,15,16,17,19,15,15,10,16,13,13,13,13,13,13,13,13,17,17,17,17,18,19,19,16,9,8,12,10,8,6,3,3]},\"selected\":{\"id\":\"1047\"},\"selection_policy\":{\"id\":\"1048\"}},\"id\":\"1035\",\"type\":\"ColumnDataSource\"},{\"attributes\":{\"toolbars\":[{\"id\":\"1028\"},{\"id\":\"1090\"}],\"tools\":[{\"id\":\"1021\"},{\"id\":\"1022\"},{\"id\":\"1023\"},{\"id\":\"1024\"},{\"id\":\"1025\"},{\"id\":\"1026\"},{\"id\":\"1083\"},{\"id\":\"1084\"},{\"id\":\"1085\"},{\"id\":\"1086\"},{\"id\":\"1087\"},{\"id\":\"1088\"}]},\"id\":\"1206\",\"type\":\"ProxyToolbar\"},{\"attributes\":{\"line_color\":\"#A6CEE3\",\"x\":{\"field\":\"x\"},\"y\":{\"field\":\"y\"}},\"id\":\"1036\",\"type\":\"Line\"},{\"attributes\":{},\"id\":\"1046\",\"type\":\"AllLabels\"},{\"attributes\":{},\"id\":\"1109\",\"type\":\"Selection\"},{\"attributes\":{},\"id\":\"1044\",\"type\":\"DatetimeTickFormatter\"},{\"attributes\":{},\"id\":\"1110\",\"type\":\"UnionRenderers\"},{\"attributes\":{\"items\":[{\"id\":\"1063\"}],\"location\":\"top_left\"},\"id\":\"1062\",\"type\":\"Legend\"},{\"attributes\":{\"source\":{\"id\":\"1035\"}},\"id\":\"1039\",\"type\":\"CDSView\"},{\"attributes\":{\"bottom_units\":\"screen\",\"fill_alpha\":0.5,\"fill_color\":\"lightgrey\",\"left_units\":\"screen\",\"level\":\"overlay\",\"line_alpha\":1.0,\"line_color\":\"black\",\"line_dash\":[4,4],\"line_width\":2,\"right_units\":\"screen\",\"syncable\":false,\"top_units\":\"screen\"},\"id\":\"1089\",\"type\":\"BoxAnnotation\"},{\"attributes\":{},\"id\":\"1043\",\"type\":\"AllLabels\"},{\"attributes\":{\"label\":{\"value\":\"Segovia 26\"},\"renderers\":[{\"id\":\"1038\"}]},\"id\":\"1063\",\"type\":\"LegendItem\"}],\"root_ids\":[\"1208\"]},\"title\":\"Bokeh Application\",\"version\":\"2.3.3\"}};\n",
       "  var render_items = [{\"docid\":\"6e12cc18-a5a5-4ecb-a9f0-41d343d96854\",\"root_ids\":[\"1208\"],\"roots\":{\"1208\":\"a724edb8-d639-49a6-86de-3e114eb4dba6\"}}];\n",
       "  root.Bokeh.embed.embed_items_notebook(docs_json, render_items);\n",
       "\n",
       "  }\n",
       "  if (root.Bokeh !== undefined) {\n",
       "    embed_document(root);\n",
       "  } else {\n",
       "    var attempts = 0;\n",
       "    var timer = setInterval(function(root) {\n",
       "      if (root.Bokeh !== undefined) {\n",
       "        clearInterval(timer);\n",
       "        embed_document(root);\n",
       "      } else {\n",
       "        attempts++;\n",
       "        if (attempts > 100) {\n",
       "          clearInterval(timer);\n",
       "          console.log(\"Bokeh: ERROR: Unable to run BokehJS code because BokehJS library is missing\");\n",
       "        }\n",
       "      }\n",
       "    }, 10, root)\n",
       "  }\n",
       "})(window);"
      ],
      "application/vnd.bokehjs_exec.v0+json": ""
     },
     "metadata": {
      "application/vnd.bokehjs_exec.v0+json": {
       "id": "1208"
      }
     },
     "output_type": "display_data"
    },
    {
     "name": "stderr",
     "output_type": "stream",
     "text": [
      "Start : Este comando no se puede ejecutar debido al error: El sistema no puede encontrar el archivo especificado.\r\n"
     ]
    }
   ],
   "source": [
    "output_notebook()\n",
    "output_file(\"stocks.html\", title=\"stocks.py example\")\n",
    "show(gridplot([[p1,p2]], plot_width=400, plot_height=400))  # open a browser"
   ]
  },
  {
   "cell_type": "code",
   "execution_count": null,
   "id": "78662b9b",
   "metadata": {},
   "outputs": [],
   "source": []
  },
  {
   "cell_type": "code",
   "execution_count": 10,
   "id": "43c086d1",
   "metadata": {},
   "outputs": [],
   "source": [
    "bikes_pathFile = './data/202105_movements.json'\n",
    "\n",
    "df = pd.read_json(bikes_pathFile, lines=True)"
   ]
  },
  {
   "cell_type": "code",
   "execution_count": 11,
   "id": "15ec4ca6",
   "metadata": {},
   "outputs": [
    {
     "data": {
      "text/plain": [
       "_id                 414249\n",
       "user_day_code       414249\n",
       "idplug_base         414249\n",
       "user_type           414249\n",
       "idunplug_base       414249\n",
       "travel_time         414249\n",
       "idunplug_station    414249\n",
       "ageRange            414249\n",
       "idplug_station      414249\n",
       "unplug_hourTime     414249\n",
       "zip_code            414249\n",
       "dtype: int64"
      ]
     },
     "execution_count": 11,
     "metadata": {},
     "output_type": "execute_result"
    }
   ],
   "source": [
    "df.count()"
   ]
  },
  {
   "cell_type": "code",
   "execution_count": 12,
   "id": "3695c441",
   "metadata": {},
   "outputs": [
    {
     "data": {
      "text/plain": [
       "count    414249.000000\n",
       "mean         22.620252\n",
       "std         426.289053\n",
       "min           0.000000\n",
       "25%           8.166667\n",
       "50%          12.500000\n",
       "75%          18.533333\n",
       "max       39354.783333\n",
       "Name: travel_time_mins, dtype: float64"
      ]
     },
     "execution_count": 12,
     "metadata": {},
     "output_type": "execute_result"
    }
   ],
   "source": [
    "# sec to min\n",
    "df['travel_time_mins'] = df['travel_time']/60\n",
    "df['travel_time_mins'].describe()"
   ]
  },
  {
   "cell_type": "code",
   "execution_count": 13,
   "id": "ae23b04b",
   "metadata": {},
   "outputs": [
    {
     "data": {
      "text/plain": [
       "<AxesSubplot:>"
      ]
     },
     "execution_count": 13,
     "metadata": {},
     "output_type": "execute_result"
    },
    {
     "data": {
      "image/png": "[encoded data removed]",
      "text/plain": [
       "<Figure size 432x288 with 1 Axes>"
      ]
     },
     "metadata": {
      "needs_background": "light"
     },
     "output_type": "display_data"
    }
   ],
   "source": [
    "#We need to get rid of zero values first, to avoid divide by zero errors\n",
    "df_aux = df.loc[df['travel_time_mins'] > 0]\n",
    "\n",
    "df['travel_time_mins_log'] = np.log(df_aux['travel_time_mins'])\n",
    "df['travel_time_mins_log'].hist(bins=250)"
   ]
  },
  {
   "cell_type": "code",
   "execution_count": 14,
   "id": "a0bf6f8c",
   "metadata": {},
   "outputs": [
    {
     "data": {
      "text/plain": [
       "<AxesSubplot:>"
      ]
     },
     "execution_count": 14,
     "metadata": {},
     "output_type": "execute_result"
    },
    {
     "data": {
      "image/png": "[encoded data removed]",
      "text/plain": [
       "<Figure size 432x288 with 1 Axes>"
      ]
     },
     "metadata": {
      "needs_background": "light"
     },
     "output_type": "display_data"
    }
   ],
   "source": [
    "df_extremes = df.loc[df['travel_time_mins'] > 0]\n",
    "df_extremes.boxplot(column='travel_time_mins')\n",
    "# More than 5.000 min means that the bike were used more than 83 hours (more than 3 days)"
   ]
  },
  {
   "cell_type": "code",
   "execution_count": 17,
   "id": "d903e10d",
   "metadata": {},
   "outputs": [
    {
     "data": {
      "text/plain": [
       "88"
      ]
     },
     "execution_count": 17,
     "metadata": {},
     "output_type": "execute_result"
    }
   ],
   "source": [
    "df_extremes = df.loc[df['travel_time_mins'] > 5000]\n",
    "df_extremes.travel_time_mins.count()"
   ]
  },
  {
   "cell_type": "code",
   "execution_count": 19,
   "id": "6bba086f",
   "metadata": {},
   "outputs": [
    {
     "data": {
      "text/plain": [
       "414042"
      ]
     },
     "execution_count": 19,
     "metadata": {},
     "output_type": "execute_result"
    }
   ],
   "source": [
    "# Let's assume that, everything above 6h are super-outliers (360 min)\n",
    "\n",
    "df_extremes = df.loc[df['travel_time_mins'] < 360]\n",
    "df_extremes.travel_time_mins.count()"
   ]
  },
  {
   "cell_type": "code",
   "execution_count": 32,
   "id": "30f43802",
   "metadata": {},
   "outputs": [
    {
     "name": "stdout",
     "output_type": "stream",
     "text": [
      "403517\n",
      "              label  lower_whisker  lower_quartile  median  upper_quartile  \\\n",
      "0  travel_time_mins            0.0            8.05   12.25            17.9   \n",
      "\n",
      "   upper_whisker  \n",
      "0      32.666667  \n"
     ]
    },
    {
     "data": {
      "image/png": "[encoded data removed]",
      "text/plain": [
       "<Figure size 576x396 with 1 Axes>"
      ]
     },
     "metadata": {},
     "output_type": "display_data"
    }
   ],
   "source": [
    "# And around an hour?\n",
    "\n",
    "df_extremes = df.loc[df['travel_time_mins'] <= 60]\n",
    "print(df_extremes.travel_time_mins.count())\n",
    "\n",
    "def get_box_plot_data(labels, bp):\n",
    "    rows_list = []\n",
    "\n",
    "    for i in range(len(labels)):\n",
    "        dict1 = {}\n",
    "        dict1['label'] = labels[i]\n",
    "        dict1['lower_whisker'] = bp['whiskers'][i*2].get_ydata()[1]\n",
    "        dict1['lower_quartile'] = bp['boxes'][i].get_ydata()[1]\n",
    "        dict1['median'] = bp['medians'][i].get_ydata()[1]\n",
    "        dict1['upper_quartile'] = bp['boxes'][i].get_ydata()[2]\n",
    "        dict1['upper_whisker'] = bp['whiskers'][(i*2)+1].get_ydata()[1]\n",
    "        rows_list.append(dict1)\n",
    "\n",
    "    return pd.DataFrame(rows_list)\n",
    "\n",
    "label = ['travel_time_mins']\n",
    "bp = plt.boxplot(list(df_extremes.travel_time_mins), labels=label)\n",
    "print(get_box_plot_data(labels, bp))\n",
    "plt.show()"
   ]
  },
  {
   "cell_type": "code",
   "execution_count": 40,
   "id": "1f80a3a3",
   "metadata": {},
   "outputs": [
    {
     "name": "stdout",
     "output_type": "stream",
     "text": [
      "28070\n",
      "414249\n",
      "7% of data are outliers\n"
     ]
    }
   ],
   "source": [
    "df_extremes = df.loc[df['travel_time_mins'] > 32]\n",
    "\n",
    "pct_outlier = (df_extremes['travel_time_mins'].count() / df['travel_time_mins'].count())*100\n",
    "print(f\"{round(pct_outlier)}% of data are outliers\")"
   ]
  },
  {
   "cell_type": "code",
   "execution_count": 45,
   "id": "fc103ae8",
   "metadata": {},
   "outputs": [
    {
     "name": "stdout",
     "output_type": "stream",
     "text": [
      "From our first assumption, 17842 bikes are registered. Combining it with our second statement, 13121 resulted\n",
      "We can say that the difference of those results (4721) are really fast travellers\n",
      "The number of defectuose bikes are 13121, this value represent the 3% of all bikes\n"
     ]
    }
   ],
   "source": [
    "# Sometimes people return the bike right away because of a hidden flaw in the bike. \n",
    "# Let's say that people that return the bike in under 3 min, it's because of a defective bike\n",
    "\n",
    "n_badBikes = df.loc[df['travel_time'] < 180]['_id'].count()\n",
    "\n",
    "# Another indicator is if the bike is returned to the same station:\n",
    "df_sameStation = df.loc[(df['idunplug_station'] == df['idplug_station'])]\n",
    "n_badBikes_st = df_sameStation.loc[df_sameStation['travel_time'] < 180]['_id'].count()\n",
    "\n",
    "print(f\"From our first assumption, {n_badBikes} bikes are registered. Combining it with our second statement, {n_badBikes_st} resulted\")\n",
    "print(f\"We can say that the difference of those results ({n_badBikes-n_badBikes_st}) are really fast travellers\")\n",
    "\n",
    "pct_badBikes = n_badBikes_st / df['travel_time'].count()\n",
    "\n",
    "print(f\"The number of defectuose bikes are {n_badBikes_st}, this value represent the {round(pct_badBikes*100)}% of all bikes\")"
   ]
  },
  {
   "cell_type": "code",
   "execution_count": null,
   "id": "ecfb9ab9",
   "metadata": {},
   "outputs": [],
   "source": [
    "# From the docs, we determine that:\n",
    "\n",
    "# user_type = 0: undetermined\n",
    "# user_type = 1: annual pass holder\n",
    "# user_type = 2: occasional user \n",
    "# user_type = 3: BiciMad employee\n",
    "\n",
    "# ageRange = 0: undetermined\n",
    "# ageRange = 1: from 0 to 16 years old\n",
    "# ageRange = 2: from 17 to 18 years old\n",
    "# ageRange = 3: from 19 to 26 years old\n",
    "# ageRange = 4: from 27 to 40 years old\n",
    "# ageRange = 5: from 41 to 65 years old\n",
    "# ageRange = 6: older than 66"
   ]
  },
  {
   "cell_type": "code",
   "execution_count": 46,
   "id": "5fa36ff7",
   "metadata": {},
   "outputs": [
    {
     "data": {
      "text/html": [
       "<div>\n",
       "<style scoped>\n",
       "    .dataframe tbody tr th:only-of-type {\n",
       "        vertical-align: middle;\n",
       "    }\n",
       "\n",
       "    .dataframe tbody tr th {\n",
       "        vertical-align: top;\n",
       "    }\n",
       "\n",
       "    .dataframe thead th {\n",
       "        text-align: right;\n",
       "    }\n",
       "</style>\n",
       "<table border=\"1\" class=\"dataframe\">\n",
       "  <thead>\n",
       "    <tr style=\"text-align: right;\">\n",
       "      <th></th>\n",
       "      <th>count</th>\n",
       "      <th>mean</th>\n",
       "      <th>std</th>\n",
       "      <th>min</th>\n",
       "      <th>25%</th>\n",
       "      <th>50%</th>\n",
       "      <th>75%</th>\n",
       "      <th>max</th>\n",
       "    </tr>\n",
       "    <tr>\n",
       "      <th>user_type</th>\n",
       "      <th></th>\n",
       "      <th></th>\n",
       "      <th></th>\n",
       "      <th></th>\n",
       "      <th></th>\n",
       "      <th></th>\n",
       "      <th></th>\n",
       "      <th></th>\n",
       "    </tr>\n",
       "  </thead>\n",
       "  <tbody>\n",
       "    <tr>\n",
       "      <th>1</th>\n",
       "      <td>388640.0</td>\n",
       "      <td>16.336077</td>\n",
       "      <td>18.677494</td>\n",
       "      <td>0.016667</td>\n",
       "      <td>8.500000</td>\n",
       "      <td>12.633333</td>\n",
       "      <td>18.400000</td>\n",
       "      <td>359.933333</td>\n",
       "    </tr>\n",
       "    <tr>\n",
       "      <th>2</th>\n",
       "      <td>2223.0</td>\n",
       "      <td>41.294377</td>\n",
       "      <td>44.794094</td>\n",
       "      <td>1.633333</td>\n",
       "      <td>14.425000</td>\n",
       "      <td>24.833333</td>\n",
       "      <td>51.483333</td>\n",
       "      <td>339.216667</td>\n",
       "    </tr>\n",
       "    <tr>\n",
       "      <th>3</th>\n",
       "      <td>19182.0</td>\n",
       "      <td>145.219849</td>\n",
       "      <td>1975.115825</td>\n",
       "      <td>0.000000</td>\n",
       "      <td>0.133333</td>\n",
       "      <td>0.200000</td>\n",
       "      <td>14.312500</td>\n",
       "      <td>39354.783333</td>\n",
       "    </tr>\n",
       "    <tr>\n",
       "      <th>6</th>\n",
       "      <td>4203.0</td>\n",
       "      <td>34.296903</td>\n",
       "      <td>39.057521</td>\n",
       "      <td>1.716667</td>\n",
       "      <td>12.183333</td>\n",
       "      <td>20.300000</td>\n",
       "      <td>40.741667</td>\n",
       "      <td>352.816667</td>\n",
       "    </tr>\n",
       "    <tr>\n",
       "      <th>7</th>\n",
       "      <td>1.0</td>\n",
       "      <td>9.300000</td>\n",
       "      <td>NaN</td>\n",
       "      <td>9.300000</td>\n",
       "      <td>9.300000</td>\n",
       "      <td>9.300000</td>\n",
       "      <td>9.300000</td>\n",
       "      <td>9.300000</td>\n",
       "    </tr>\n",
       "  </tbody>\n",
       "</table>\n",
       "</div>"
      ],
      "text/plain": [
       "              count        mean          std       min        25%        50%  \\\n",
       "user_type                                                                      \n",
       "1          388640.0   16.336077    18.677494  0.016667   8.500000  12.633333   \n",
       "2            2223.0   41.294377    44.794094  1.633333  14.425000  24.833333   \n",
       "3           19182.0  145.219849  1975.115825  0.000000   0.133333   0.200000   \n",
       "6            4203.0   34.296903    39.057521  1.716667  12.183333  20.300000   \n",
       "7               1.0    9.300000          NaN  9.300000   9.300000   9.300000   \n",
       "\n",
       "                 75%           max  \n",
       "user_type                           \n",
       "1          18.400000    359.933333  \n",
       "2          51.483333    339.216667  \n",
       "3          14.312500  39354.783333  \n",
       "6          40.741667    352.816667  \n",
       "7           9.300000      9.300000  "
      ]
     },
     "metadata": {},
     "output_type": "display_data"
    },
    {
     "data": {
      "text/plain": [
       "<AxesSubplot:xlabel='ageRange'>"
      ]
     },
     "metadata": {},
     "output_type": "display_data"
    },
    {
     "data": {
      "image/png": "[encoded data removed]",
      "text/plain": [
       "<Figure size 576x396 with 1 Axes>"
      ]
     },
     "metadata": {},
     "output_type": "display_data"
    }
   ],
   "source": [
    "display(df.groupby(['user_type'])['travel_time_mins'].describe())\n",
    "display(df.loc[df['user_type']==1].groupby(['ageRange'])['_id'].count().plot(kind='bar'))"
   ]
  },
  {
   "cell_type": "code",
   "execution_count": 59,
   "id": "b5397bdf",
   "metadata": {},
   "outputs": [
    {
     "data": {
      "text/plain": [
       "count       414249\n",
       "unique          24\n",
       "top       17:00:00\n",
       "freq         34447\n",
       "Name: unplugHour, dtype: object"
      ]
     },
     "execution_count": 59,
     "metadata": {},
     "output_type": "execute_result"
    }
   ],
   "source": [
    "import datetime\n",
    "#df.unplug_hourTime[0].split(\"T\")[1].split(\"Z\")[0]\n",
    "#date_time_str = df.unplug_hourTime[0]\n",
    "date_time_obj = datetime.datetime.strptime(date_time_str, '%Y-%m-%dT%H:%M:%SZ')\n",
    "date_time_obj.time()\n",
    "\n",
    "df['unplugHour'] = df['unplug_hourTime'].apply(lambda x: datetime.datetime.strptime(x, '%Y-%m-%dT%H:%M:%SZ').time())\n",
    "df['unplugHour'].describe()"
   ]
  },
  {
   "cell_type": "code",
   "execution_count": 60,
   "id": "48d744ef",
   "metadata": {},
   "outputs": [
    {
     "data": {
      "text/plain": [
       "<AxesSubplot:xlabel='unplugHour'>"
      ]
     },
     "execution_count": 60,
     "metadata": {},
     "output_type": "execute_result"
    },
    {
     "data": {
      "image/png": "[encoded data removed]",
      "text/plain": [
       "<Figure size 576x396 with 1 Axes>"
      ]
     },
     "metadata": {},
     "output_type": "display_data"
    }
   ],
   "source": [
    "# Most common hour to get the bike\n",
    "df.loc[df['user_type']==1].groupby(['unplugHour'])['_id'].count().plot(kind='bar')"
   ]
  },
  {
   "cell_type": "code",
   "execution_count": 136,
   "id": "2982344d",
   "metadata": {},
   "outputs": [
    {
     "name": "stderr",
     "output_type": "stream",
     "text": [
      "/tmp/ipykernel_4479/160620837.py:9: SettingWithCopyWarning: \n",
      "A value is trying to be set on a copy of a slice from a DataFrame.\n",
      "Try using .loc[row_indexer,col_indexer] = value instead\n",
      "\n",
      "See the caveats in the documentation: https://pandas.pydata.org/pandas-docs/stable/user_guide/indexing.html#returning-a-view-versus-a-copy\n",
      "  df_stTime['unplugHour'] = df_stTime['unplugHour'].apply(lambda x: x.strftime(\"%H\"))\n"
     ]
    },
    {
     "data": {
      "text/html": [
       "<div>\n",
       "<style scoped>\n",
       "    .dataframe tbody tr th:only-of-type {\n",
       "        vertical-align: middle;\n",
       "    }\n",
       "\n",
       "    .dataframe tbody tr th {\n",
       "        vertical-align: top;\n",
       "    }\n",
       "\n",
       "    .dataframe thead th {\n",
       "        text-align: right;\n",
       "    }\n",
       "</style>\n",
       "<table border=\"1\" class=\"dataframe\">\n",
       "  <thead>\n",
       "    <tr style=\"text-align: right;\">\n",
       "      <th></th>\n",
       "      <th>name</th>\n",
       "      <th>unplugHour</th>\n",
       "      <th>count</th>\n",
       "    </tr>\n",
       "  </thead>\n",
       "  <tbody>\n",
       "    <tr>\n",
       "      <th>12</th>\n",
       "      <td>Agustín de Betancourt</td>\n",
       "      <td>12</td>\n",
       "      <td>135</td>\n",
       "    </tr>\n",
       "    <tr>\n",
       "      <th>38</th>\n",
       "      <td>Alberto Alcocer</td>\n",
       "      <td>16</td>\n",
       "      <td>78</td>\n",
       "    </tr>\n",
       "    <tr>\n",
       "      <th>57</th>\n",
       "      <td>Alcalá</td>\n",
       "      <td>12</td>\n",
       "      <td>111</td>\n",
       "    </tr>\n",
       "    <tr>\n",
       "      <th>84</th>\n",
       "      <td>Alcalá-Ventas</td>\n",
       "      <td>15</td>\n",
       "      <td>108</td>\n",
       "    </tr>\n",
       "    <tr>\n",
       "      <th>109</th>\n",
       "      <td>Alcántara</td>\n",
       "      <td>16</td>\n",
       "      <td>83</td>\n",
       "    </tr>\n",
       "    <tr>\n",
       "      <th>130</th>\n",
       "      <td>Almadén</td>\n",
       "      <td>13</td>\n",
       "      <td>137</td>\n",
       "    </tr>\n",
       "    <tr>\n",
       "      <th>158</th>\n",
       "      <td>Alonso Martínez</td>\n",
       "      <td>17</td>\n",
       "      <td>270</td>\n",
       "    </tr>\n",
       "    <tr>\n",
       "      <th>181</th>\n",
       "      <td>Altamirano</td>\n",
       "      <td>16</td>\n",
       "      <td>138</td>\n",
       "    </tr>\n",
       "    <tr>\n",
       "      <th>206</th>\n",
       "      <td>Antonio López</td>\n",
       "      <td>17</td>\n",
       "      <td>124</td>\n",
       "    </tr>\n",
       "    <tr>\n",
       "      <th>222</th>\n",
       "      <td>Antonio Maura</td>\n",
       "      <td>12</td>\n",
       "      <td>154</td>\n",
       "    </tr>\n",
       "  </tbody>\n",
       "</table>\n",
       "</div>"
      ],
      "text/plain": [
       "                      name unplugHour  count\n",
       "12   Agustín de Betancourt         12    135\n",
       "38         Alberto Alcocer         16     78\n",
       "57                  Alcalá         12    111\n",
       "84           Alcalá-Ventas         15    108\n",
       "109              Alcántara         16     83\n",
       "130                Almadén         13    137\n",
       "158        Alonso Martínez         17    270\n",
       "181             Altamirano         16    138\n",
       "206          Antonio López         17    124\n",
       "222          Antonio Maura         12    154"
      ]
     },
     "metadata": {},
     "output_type": "display_data"
    }
   ],
   "source": [
    "# Most common hour to get the bike per station\n",
    "bk = df[['user_type','_id','unplugHour','idunplug_station']]\n",
    "st = df_stations[['id','name']].drop_duplicates()\n",
    "\n",
    "result = pd.merge(st, bk, left_on = 'id', right_on = 'idunplug_station', how = 'left')\n",
    "st_time = pd.DataFrame({'count' : result.loc[df['user_type']==1].groupby(['name','unplugHour'])['_id'].count()}).reset_index()\n",
    "\n",
    "df_stTime = st_time.iloc[st_time.groupby(['name'])['count'].idxmax()]\n",
    "df_stTime['unplugHour'] = df_stTime['unplugHour'].apply(lambda x: x.strftime(\"%H\"))\n",
    "display(df_stTime.head(10))"
   ]
  },
  {
   "cell_type": "code",
   "execution_count": 137,
   "id": "db883c7a",
   "metadata": {},
   "outputs": [
    {
     "data": {
      "text/plain": [
       "<AxesSubplot:xlabel='name', ylabel='unplugHour'>"
      ]
     },
     "execution_count": 137,
     "metadata": {},
     "output_type": "execute_result"
    },
    {
     "data": {
      "image/png": "[encoded data removed]",
      "text/plain": [
       "<Figure size 576x396 with 1 Axes>"
      ]
     },
     "metadata": {},
     "output_type": "display_data"
    }
   ],
   "source": [
    "df_stTime.plot.scatter(x='name',y='unplugHour')"
   ]
  },
  {
   "cell_type": "code",
   "execution_count": null,
   "id": "8aa47bfe",
   "metadata": {},
   "outputs": [],
   "source": []
  }
 ],
 "metadata": {
  "kernelspec": {
   "display_name": "Python 3 (ipykernel)",
   "language": "python",
   "name": "python3"
  },
  "language_info": {
   "codemirror_mode": {
    "name": "ipython",
    "version": 3
   },
   "file_extension": ".py",
   "mimetype": "text/x-python",
   "name": "python",
   "nbconvert_exporter": "python",
   "pygments_lexer": "ipython3",
   "version": "3.9.7"
  }
 },
 "nbformat": 4,
 "nbformat_minor": 5
}
