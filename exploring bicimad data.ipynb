{
 "cells": [
  {
   "cell_type": "code",
   "execution_count": 1,
   "metadata": {},
   "outputs": [],
   "source": [
    "import geopandas as gpd\n",
    "import numpy as np\n",
    "import pandas as pd\n",
    "import folium\n",
    "import matplotlib as plt\n",
    "import json"
   ]
  },
  {
   "cell_type": "code",
   "execution_count": 2,
   "metadata": {},
   "outputs": [],
   "source": [
    "#Datos itinerarios de última hasta mayo 2018"
   ]
  },
  {
   "cell_type": "code",
   "execution_count": 3,
   "metadata": {},
   "outputs": [],
   "source": [
    "# Watch out! lines=True needed\n",
    "BIKE_RIDES_DATASET= '.data/tour/201704_Usage_Bicimad.json'\n",
    "\n",
    "#df = pd.read_json(BIKE_RIDES_DATASET, lines=True)\n"
   ]
  },
  {
   "cell_type": "code",
   "execution_count": 4,
   "metadata": {},
   "outputs": [
    {
     "data": {
      "text/plain": [
       "'.data/tour/201704_Usage_Bicimad.json'"
      ]
     },
     "execution_count": 4,
     "metadata": {},
     "output_type": "execute_result"
    }
   ],
   "source": [
    "BIKE_RIDES_DATASET"
   ]
  },
  {
   "cell_type": "code",
   "execution_count": 4,
   "metadata": {},
   "outputs": [],
   "source": [
    "def read_json(filepath):\n",
    "    if os.path.splitext(filepath)[1] != '.csv':\n",
    "        return  # or whatever\n",
    "    seps = [',', ';', '\\t']                    # ',' is default\n",
    "    encodings = [None, 'utf-8', 'ISO-8859-1']  # None is default\n",
    "    for sep in seps:\n",
    "        for encoding in encodings:\n",
    "            try:\n",
    "                return pd.read_csv(filepath, encoding=encoding, sep=sep)\n",
    "            except Exception:  # should really be more specific \n",
    "                pass\n",
    "    raise ValueError(\"{!r} is has no encoding in {} or seperator in {}\".format(filepath, encodings, seps))"
   ]
  },
  {
   "cell_type": "code",
   "execution_count": 5,
   "metadata": {},
   "outputs": [],
   "source": [
    "with open('.data/tour/201704_Usage_Bicimad.json', encoding='latin-1') as json_file:      \n",
    "    data = json_file.readlines()\n",
    "    # this line below may take at least 8-10 minutes of processing for 4-5 million rows. \n",
    "    # It converts all strings in list to actual json objects. \n",
    "    data = list(map(json.loads, data)) \n",
    "\n",
    "df = pd.DataFrame(data)"
   ]
  },
  {
   "cell_type": "code",
   "execution_count": 6,
   "metadata": {},
   "outputs": [],
   "source": [
    "df_track = df.loc[df.track.notnull()]"
   ]
  },
  {
   "cell_type": "code",
   "execution_count": 7,
   "metadata": {},
   "outputs": [
    {
     "data": {
      "text/plain": [
       "{'type': 'FeatureCollection',\n",
       " 'features': [{'geometry': {'type': 'Point',\n",
       "    'coordinates': [-3.70870729972222, 40.425555]},\n",
       "   'type': 'Feature',\n",
       "   'properties': {'var': '28015,ES,Madrid,Madrid,CALLE NOVICIADO 7,Madrid',\n",
       "    'speed': 5.52,\n",
       "    'secondsfromstart': 132}},\n",
       "  {'geometry': {'type': 'Point',\n",
       "    'coordinates': [-3.71201159972222, 40.426343]},\n",
       "   'type': 'Feature',\n",
       "   'properties': {'var': '28015,ES,Madrid,Madrid,CALLE MANUEL 7,Madrid',\n",
       "    'speed': 2.19,\n",
       "    'secondsfromstart': 72}}]}"
      ]
     },
     "execution_count": 7,
     "metadata": {},
     "output_type": "execute_result"
    }
   ],
   "source": [
    "df_track['track'][2]"
   ]
  },
  {
   "cell_type": "code",
   "execution_count": 8,
   "metadata": {},
   "outputs": [
    {
     "data": {
      "text/html": [
       "<div>\n",
       "<style scoped>\n",
       "    .dataframe tbody tr th:only-of-type {\n",
       "        vertical-align: middle;\n",
       "    }\n",
       "\n",
       "    .dataframe tbody tr th {\n",
       "        vertical-align: top;\n",
       "    }\n",
       "\n",
       "    .dataframe thead th {\n",
       "        text-align: right;\n",
       "    }\n",
       "</style>\n",
       "<table border=\"1\" class=\"dataframe\">\n",
       "  <thead>\n",
       "    <tr style=\"text-align: right;\">\n",
       "      <th></th>\n",
       "      <th>_id</th>\n",
       "      <th>user_day_code</th>\n",
       "      <th>idplug_base</th>\n",
       "      <th>user_type</th>\n",
       "      <th>idunplug_base</th>\n",
       "      <th>travel_time</th>\n",
       "      <th>idunplug_station</th>\n",
       "      <th>ageRange</th>\n",
       "      <th>idplug_station</th>\n",
       "      <th>unplug_hourTime</th>\n",
       "      <th>zip_code</th>\n",
       "      <th>track</th>\n",
       "    </tr>\n",
       "  </thead>\n",
       "  <tbody>\n",
       "    <tr>\n",
       "      <th>2</th>\n",
       "      <td>{'$oid': '58e5e5e7865e9c221ca458b2'}</td>\n",
       "      <td>877deab4cc256bb87e02abc1db75005ac2b66d65be8849...</td>\n",
       "      <td>5</td>\n",
       "      <td>1</td>\n",
       "      <td>5</td>\n",
       "      <td>171</td>\n",
       "      <td>15</td>\n",
       "      <td>4</td>\n",
       "      <td>16</td>\n",
       "      <td>{'$date': '2017-04-01T01:00:00.000+0200'}</td>\n",
       "      <td>28053</td>\n",
       "      <td>{'type': 'FeatureCollection', 'features': [{'g...</td>\n",
       "    </tr>\n",
       "    <tr>\n",
       "      <th>3</th>\n",
       "      <td>{'$oid': '58e5e5e7865e9c221ca458b8'}</td>\n",
       "      <td>91bbf6c3ba396f84cce4e96e59be42b0824a16c8a1bf89...</td>\n",
       "      <td>18</td>\n",
       "      <td>1</td>\n",
       "      <td>20</td>\n",
       "      <td>388</td>\n",
       "      <td>23</td>\n",
       "      <td>4</td>\n",
       "      <td>57</td>\n",
       "      <td>{'$date': '2017-04-01T01:00:00.000+0200'}</td>\n",
       "      <td>28012</td>\n",
       "      <td>{'type': 'FeatureCollection', 'features': [{'g...</td>\n",
       "    </tr>\n",
       "    <tr>\n",
       "      <th>4</th>\n",
       "      <td>{'$oid': '58e5e5e7865e9c221ca458b9'}</td>\n",
       "      <td>4476cabb023b8b4473e5b6e78a1a79e0ebc8910c8e9989...</td>\n",
       "      <td>2</td>\n",
       "      <td>1</td>\n",
       "      <td>2</td>\n",
       "      <td>381</td>\n",
       "      <td>23</td>\n",
       "      <td>4</td>\n",
       "      <td>43</td>\n",
       "      <td>{'$date': '2017-04-01T01:00:00.000+0200'}</td>\n",
       "      <td>28042</td>\n",
       "      <td>{'type': 'FeatureCollection', 'features': [{'g...</td>\n",
       "    </tr>\n",
       "    <tr>\n",
       "      <th>5</th>\n",
       "      <td>{'$oid': '58e5e5e7865e9c221ca458ba'}</td>\n",
       "      <td>b9c8654c6e2b11d3aa00b4fb242fc875940978cdc2e7b5...</td>\n",
       "      <td>6</td>\n",
       "      <td>1</td>\n",
       "      <td>3</td>\n",
       "      <td>299</td>\n",
       "      <td>23</td>\n",
       "      <td>3</td>\n",
       "      <td>43</td>\n",
       "      <td>{'$date': '2017-04-01T01:00:00.000+0200'}</td>\n",
       "      <td>28005</td>\n",
       "      <td>{'type': 'FeatureCollection', 'features': [{'g...</td>\n",
       "    </tr>\n",
       "    <tr>\n",
       "      <th>6</th>\n",
       "      <td>{'$oid': '58e5e5e7865e9c221ca458bb'}</td>\n",
       "      <td>322333231f000c59662af3d46b6c5f68ddf504e32a311b...</td>\n",
       "      <td>8</td>\n",
       "      <td>0</td>\n",
       "      <td>22</td>\n",
       "      <td>409</td>\n",
       "      <td>23</td>\n",
       "      <td>0</td>\n",
       "      <td>43</td>\n",
       "      <td>{'$date': '2017-04-01T01:00:00.000+0200'}</td>\n",
       "      <td></td>\n",
       "      <td>{'type': 'FeatureCollection', 'features': [{'g...</td>\n",
       "    </tr>\n",
       "  </tbody>\n",
       "</table>\n",
       "</div>"
      ],
      "text/plain": [
       "                                    _id  \\\n",
       "2  {'$oid': '58e5e5e7865e9c221ca458b2'}   \n",
       "3  {'$oid': '58e5e5e7865e9c221ca458b8'}   \n",
       "4  {'$oid': '58e5e5e7865e9c221ca458b9'}   \n",
       "5  {'$oid': '58e5e5e7865e9c221ca458ba'}   \n",
       "6  {'$oid': '58e5e5e7865e9c221ca458bb'}   \n",
       "\n",
       "                                       user_day_code  idplug_base  user_type  \\\n",
       "2  877deab4cc256bb87e02abc1db75005ac2b66d65be8849...            5          1   \n",
       "3  91bbf6c3ba396f84cce4e96e59be42b0824a16c8a1bf89...           18          1   \n",
       "4  4476cabb023b8b4473e5b6e78a1a79e0ebc8910c8e9989...            2          1   \n",
       "5  b9c8654c6e2b11d3aa00b4fb242fc875940978cdc2e7b5...            6          1   \n",
       "6  322333231f000c59662af3d46b6c5f68ddf504e32a311b...            8          0   \n",
       "\n",
       "   idunplug_base  travel_time  idunplug_station  ageRange  idplug_station  \\\n",
       "2              5          171                15         4              16   \n",
       "3             20          388                23         4              57   \n",
       "4              2          381                23         4              43   \n",
       "5              3          299                23         3              43   \n",
       "6             22          409                23         0              43   \n",
       "\n",
       "                             unplug_hourTime zip_code  \\\n",
       "2  {'$date': '2017-04-01T01:00:00.000+0200'}    28053   \n",
       "3  {'$date': '2017-04-01T01:00:00.000+0200'}    28012   \n",
       "4  {'$date': '2017-04-01T01:00:00.000+0200'}    28042   \n",
       "5  {'$date': '2017-04-01T01:00:00.000+0200'}    28005   \n",
       "6  {'$date': '2017-04-01T01:00:00.000+0200'}            \n",
       "\n",
       "                                               track  \n",
       "2  {'type': 'FeatureCollection', 'features': [{'g...  \n",
       "3  {'type': 'FeatureCollection', 'features': [{'g...  \n",
       "4  {'type': 'FeatureCollection', 'features': [{'g...  \n",
       "5  {'type': 'FeatureCollection', 'features': [{'g...  \n",
       "6  {'type': 'FeatureCollection', 'features': [{'g...  "
      ]
     },
     "execution_count": 8,
     "metadata": {},
     "output_type": "execute_result"
    }
   ],
   "source": [
    "df_track.head()"
   ]
  },
  {
   "cell_type": "code",
   "execution_count": 15,
   "metadata": {},
   "outputs": [
    {
     "data": {
      "text/plain": [
       "str"
      ]
     },
     "execution_count": 15,
     "metadata": {},
     "output_type": "execute_result"
    }
   ],
   "source": [
    "type(df_track['unplug_hourTime'][2]['$date'])"
   ]
  },
  {
   "cell_type": "code",
   "execution_count": 16,
   "metadata": {},
   "outputs": [],
   "source": [
    "lista = [df_track['unplug_hourTime'][i]['$date'] for i in df_track.index]"
   ]
  },
  {
   "cell_type": "code",
   "execution_count": 19,
   "metadata": {},
   "outputs": [
    {
     "name": "stderr",
     "output_type": "stream",
     "text": [
      "/home/fserrey/miniconda3/envs/myenv/lib/python3.6/site-packages/ipykernel_launcher.py:1: SettingWithCopyWarning: \n",
      "A value is trying to be set on a copy of a slice from a DataFrame.\n",
      "Try using .loc[row_indexer,col_indexer] = value instead\n",
      "\n",
      "See the caveats in the documentation: http://pandas.pydata.org/pandas-docs/stable/user_guide/indexing.html#returning-a-view-versus-a-copy\n",
      "  \"\"\"Entry point for launching an IPython kernel.\n"
     ]
    }
   ],
   "source": [
    "df_track['pick_dates'] = [pd.Timestamp(i) for i in lista]"
   ]
  },
  {
   "cell_type": "code",
   "execution_count": 20,
   "metadata": {},
   "outputs": [
    {
     "data": {
      "text/plain": [
       "2        2017-04-01 01:00:00+02:00\n",
       "3        2017-04-01 01:00:00+02:00\n",
       "4        2017-04-01 01:00:00+02:00\n",
       "5        2017-04-01 01:00:00+02:00\n",
       "6        2017-04-01 01:00:00+02:00\n",
       "                    ...           \n",
       "253508   2017-04-30 23:00:00+02:00\n",
       "253511   2017-04-30 23:00:00+02:00\n",
       "253512   2017-04-30 23:00:00+02:00\n",
       "253514   2017-04-30 23:00:00+02:00\n",
       "253515   2017-04-30 23:00:00+02:00\n",
       "Name: pick_dates, Length: 149702, dtype: datetime64[ns, pytz.FixedOffset(120)]"
      ]
     },
     "execution_count": 20,
     "metadata": {},
     "output_type": "execute_result"
    }
   ],
   "source": [
    "df_track['pick_dates']"
   ]
  },
  {
   "cell_type": "code",
   "execution_count": 41,
   "metadata": {},
   "outputs": [
    {
     "data": {
      "text/plain": [
       "dict"
      ]
     },
     "execution_count": 41,
     "metadata": {},
     "output_type": "execute_result"
    }
   ],
   "source": [
    "type(df_track['track'][2])"
   ]
  },
  {
   "cell_type": "code",
   "execution_count": 42,
   "metadata": {},
   "outputs": [
    {
     "data": {
      "text/plain": [
       "{'type': 'FeatureCollection',\n",
       " 'features': [{'geometry': {'type': 'Point',\n",
       "    'coordinates': [-3.70870729972222, 40.425555]},\n",
       "   'type': 'Feature',\n",
       "   'properties': {'var': '28015,ES,Madrid,Madrid,CALLE NOVICIADO 7,Madrid',\n",
       "    'speed': 5.52,\n",
       "    'secondsfromstart': 132}},\n",
       "  {'geometry': {'type': 'Point',\n",
       "    'coordinates': [-3.71201159972222, 40.426343]},\n",
       "   'type': 'Feature',\n",
       "   'properties': {'var': '28015,ES,Madrid,Madrid,CALLE MANUEL 7,Madrid',\n",
       "    'speed': 2.19,\n",
       "    'secondsfromstart': 72}}]}"
      ]
     },
     "execution_count": 42,
     "metadata": {},
     "output_type": "execute_result"
    }
   ],
   "source": [
    "df_with_tracks[\"track\"][0]#[\"FeatureCollection\"][\"Features\"]\n",
    "\n",
    "{'type': 'FeatureCollection',\n",
    " 'features': [{'geometry': {'type': 'Point',\n",
    "    'coordinates': [-3.70870729972222, 40.425555]},\n",
    "   'type': 'Feature',\n",
    "   'properties': {'var': '28015,ES,Madrid,Madrid,CALLE NOVICIADO 7,Madrid',\n",
    "    'speed': 5.52,\n",
    "    'secondsfromstart': 132}},\n",
    "  {'geometry': {'type': 'Point',\n",
    "    'coordinates': [-3.71201159972222, 40.426343]},\n",
    "   'type': 'Feature',\n",
    "   'properties': {'var': '28015,ES,Madrid,Madrid,CALLE MANUEL 7,Madrid',\n",
    "    'speed': 2.19,\n",
    "    'secondsfromstart': 72}}]}"
   ]
  },
  {
   "cell_type": "code",
   "execution_count": 51,
   "metadata": {},
   "outputs": [
    {
     "name": "stdout",
     "output_type": "stream",
     "text": [
      "Index(['_id', 'user_day_code', 'idplug_base', 'user_type', 'idunplug_base',\n",
      "       'travel_time', 'idunplug_station', 'ageRange', 'idplug_station',\n",
      "       'unplug_hourTime', 'zip_code', 'track'],\n",
      "      dtype='object')\n"
     ]
    }
   ],
   "source": [
    "def to_geojson(row):\n",
    "    valid_geojson = {}\n",
    "    geojson_features = row[\"FeatureCollection\"][\"Features\"]\n",
    "    valid_geojson[\"type\"] = \"FeatureCollection\"\n",
    "    valid_geojson[\"features\"] = geojson_features\n",
    "    return valid_geojson\n",
    "\n",
    "df_with_tracks = df_track.copy()\n",
    "df_with_tracks.reset_index(drop=True, inplace=True)\n",
    "print(df_with_tracks.columns)\n",
    "df_with_tracks[\"GeoJSON\"] = df_with_tracks['track']"
   ]
  },
  {
   "cell_type": "code",
   "execution_count": 56,
   "metadata": {},
   "outputs": [],
   "source": [
    "df_with_tracks.sort_values(by=['travel_time'], ascending=False)[[\"user_type\", \"travel_time\", \"GeoJSON\"]]\n",
    "\n",
    "df_bike = df_with_tracks[df_with_tracks['user_type'] == 1].sort_values(by=['travel_time'], ascending=False).iloc[1600][\"GeoJSON\"]\n",
    "# We keep type 1 because are our main target here\n",
    "\n",
    "with open(\"df_bike.json\", \"wb\") as f:\n",
    "    f.write(json.dumps(df_bike).encode(\"utf-8\"))"
   ]
  },
  {
   "cell_type": "code",
   "execution_count": 57,
   "metadata": {},
   "outputs": [],
   "source": [
    "dfg = gpd.read_file('df_bike.json')"
   ]
  },
  {
   "cell_type": "code",
   "execution_count": 59,
   "metadata": {},
   "outputs": [
    {
     "data": {
      "text/plain": [
       "(12, 4)"
      ]
     },
     "execution_count": 59,
     "metadata": {},
     "output_type": "execute_result"
    }
   ],
   "source": [
    "dfg.shape"
   ]
  },
  {
   "cell_type": "code",
   "execution_count": 60,
   "metadata": {},
   "outputs": [
    {
     "data": {
      "text/plain": [
       "<matplotlib.axes._subplots.AxesSubplot at 0x7f8464a5ee10>"
      ]
     },
     "execution_count": 60,
     "metadata": {},
     "output_type": "execute_result"
    },
    {
     "data": {
      "image/png": "[encoded data removed]",
      "text/plain": [
       "<Figure size 432x288 with 1 Axes>"
      ]
     },
     "metadata": {
      "needs_background": "light"
     },
     "output_type": "display_data"
    }
   ],
   "source": [
    "dfg.plot()"
   ]
  },
  {
   "cell_type": "code",
   "execution_count": 66,
   "metadata": {},
   "outputs": [
    {
     "data": {
      "text/html": [
       "<div style=\"width:100%;\"><div style=\"position:relative;width:100%;height:0;padding-bottom:60%;\"><iframe src=\"data:text/html;charset=utf-8;base64,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\" style=\"position:absolute;width:100%;height:100%;left:0;top:0;border:none !important;\" allowfullscreen webkitallowfullscreen mozallowfullscreen></iframe></div></div>"
      ],
      "text/plain": [
       "<folium.folium.Map at 0x7f8464f73f28>"
      ]
     },
     "execution_count": 66,
     "metadata": {},
     "output_type": "execute_result"
    }
   ],
   "source": [
    "mapa = folium.Map(location=[40.417000, -3.703000], zoom_start=14)\n",
    "file = 'df_bike.json'\n",
    "\n",
    "# 2 possibilities I tried:\n",
    "folium.GeoJson(file,name='geojson').add_to(mapa)\n",
    "\n",
    "mapa"
   ]
  },
  {
   "cell_type": "code",
   "execution_count": null,
   "metadata": {},
   "outputs": [],
   "source": [
    "# Aggregate these points with the GroupBy\n",
    "df = df.groupby(['entity_id'])['geometry'].apply(lambda x: LineString(x.tolist()))\n",
    "df = GeoDataFrame(df, geometry='geometry')"
   ]
  },
  {
   "cell_type": "code",
   "execution_count": null,
   "metadata": {},
   "outputs": [],
   "source": []
  },
  {
   "cell_type": "code",
   "execution_count": 4,
   "metadata": {},
   "outputs": [
    {
     "data": {
      "text/html": [
       "<div>\n",
       "<style scoped>\n",
       "    .dataframe tbody tr th:only-of-type {\n",
       "        vertical-align: middle;\n",
       "    }\n",
       "\n",
       "    .dataframe tbody tr th {\n",
       "        vertical-align: top;\n",
       "    }\n",
       "\n",
       "    .dataframe thead th {\n",
       "        text-align: right;\n",
       "    }\n",
       "</style>\n",
       "<table border=\"1\" class=\"dataframe\">\n",
       "  <thead>\n",
       "    <tr style=\"text-align: right;\">\n",
       "      <th></th>\n",
       "      <th>_id</th>\n",
       "      <th>user_day_code</th>\n",
       "      <th>idplug_base</th>\n",
       "      <th>user_type</th>\n",
       "      <th>idunplug_base</th>\n",
       "      <th>travel_time</th>\n",
       "      <th>idunplug_station</th>\n",
       "      <th>ageRange</th>\n",
       "      <th>idplug_station</th>\n",
       "      <th>unplug_hourTime</th>\n",
       "      <th>zip_code</th>\n",
       "      <th>track</th>\n",
       "    </tr>\n",
       "  </thead>\n",
       "  <tbody>\n",
       "    <tr>\n",
       "      <th>0</th>\n",
       "      <td>{'$oid': '58e5e5e7865e9c221ca45898'}</td>\n",
       "      <td>df843a74bba22d2b363e4e96f74b99391276e71dfea92e...</td>\n",
       "      <td>17</td>\n",
       "      <td>1</td>\n",
       "      <td>1</td>\n",
       "      <td>169</td>\n",
       "      <td>41</td>\n",
       "      <td>4</td>\n",
       "      <td>50</td>\n",
       "      <td>{'$date': '2017-04-01T01:00:00.000+0200'}</td>\n",
       "      <td>28005</td>\n",
       "      <td>NaN</td>\n",
       "    </tr>\n",
       "    <tr>\n",
       "      <th>1</th>\n",
       "      <td>{'$oid': '58e5e5e7865e9c221ca458a7'}</td>\n",
       "      <td>6a7cf4393301d25f5a2eeaff8c7ba5d406f514ebd086aa...</td>\n",
       "      <td>2</td>\n",
       "      <td>1</td>\n",
       "      <td>14</td>\n",
       "      <td>271</td>\n",
       "      <td>95</td>\n",
       "      <td>5</td>\n",
       "      <td>90</td>\n",
       "      <td>{'$date': '2017-04-01T01:00:00.000+0200'}</td>\n",
       "      <td>28043</td>\n",
       "      <td>NaN</td>\n",
       "    </tr>\n",
       "    <tr>\n",
       "      <th>2</th>\n",
       "      <td>{'$oid': '58e5e5e7865e9c221ca458b2'}</td>\n",
       "      <td>877deab4cc256bb87e02abc1db75005ac2b66d65be8849...</td>\n",
       "      <td>5</td>\n",
       "      <td>1</td>\n",
       "      <td>5</td>\n",
       "      <td>171</td>\n",
       "      <td>15</td>\n",
       "      <td>4</td>\n",
       "      <td>16</td>\n",
       "      <td>{'$date': '2017-04-01T01:00:00.000+0200'}</td>\n",
       "      <td>28053</td>\n",
       "      <td>{'type': 'FeatureCollection', 'features': [{'g...</td>\n",
       "    </tr>\n",
       "    <tr>\n",
       "      <th>3</th>\n",
       "      <td>{'$oid': '58e5e5e7865e9c221ca458b8'}</td>\n",
       "      <td>91bbf6c3ba396f84cce4e96e59be42b0824a16c8a1bf89...</td>\n",
       "      <td>18</td>\n",
       "      <td>1</td>\n",
       "      <td>20</td>\n",
       "      <td>388</td>\n",
       "      <td>23</td>\n",
       "      <td>4</td>\n",
       "      <td>57</td>\n",
       "      <td>{'$date': '2017-04-01T01:00:00.000+0200'}</td>\n",
       "      <td>28012</td>\n",
       "      <td>{'type': 'FeatureCollection', 'features': [{'g...</td>\n",
       "    </tr>\n",
       "    <tr>\n",
       "      <th>4</th>\n",
       "      <td>{'$oid': '58e5e5e7865e9c221ca458b9'}</td>\n",
       "      <td>4476cabb023b8b4473e5b6e78a1a79e0ebc8910c8e9989...</td>\n",
       "      <td>2</td>\n",
       "      <td>1</td>\n",
       "      <td>2</td>\n",
       "      <td>381</td>\n",
       "      <td>23</td>\n",
       "      <td>4</td>\n",
       "      <td>43</td>\n",
       "      <td>{'$date': '2017-04-01T01:00:00.000+0200'}</td>\n",
       "      <td>28042</td>\n",
       "      <td>{'type': 'FeatureCollection', 'features': [{'g...</td>\n",
       "    </tr>\n",
       "  </tbody>\n",
       "</table>\n",
       "</div>"
      ],
      "text/plain": [
       "                                    _id  \\\n",
       "0  {'$oid': '58e5e5e7865e9c221ca45898'}   \n",
       "1  {'$oid': '58e5e5e7865e9c221ca458a7'}   \n",
       "2  {'$oid': '58e5e5e7865e9c221ca458b2'}   \n",
       "3  {'$oid': '58e5e5e7865e9c221ca458b8'}   \n",
       "4  {'$oid': '58e5e5e7865e9c221ca458b9'}   \n",
       "\n",
       "                                       user_day_code  idplug_base  user_type  \\\n",
       "0  df843a74bba22d2b363e4e96f74b99391276e71dfea92e...           17          1   \n",
       "1  6a7cf4393301d25f5a2eeaff8c7ba5d406f514ebd086aa...            2          1   \n",
       "2  877deab4cc256bb87e02abc1db75005ac2b66d65be8849...            5          1   \n",
       "3  91bbf6c3ba396f84cce4e96e59be42b0824a16c8a1bf89...           18          1   \n",
       "4  4476cabb023b8b4473e5b6e78a1a79e0ebc8910c8e9989...            2          1   \n",
       "\n",
       "   idunplug_base  travel_time  idunplug_station  ageRange  idplug_station  \\\n",
       "0              1          169                41         4              50   \n",
       "1             14          271                95         5              90   \n",
       "2              5          171                15         4              16   \n",
       "3             20          388                23         4              57   \n",
       "4              2          381                23         4              43   \n",
       "\n",
       "                             unplug_hourTime zip_code  \\\n",
       "0  {'$date': '2017-04-01T01:00:00.000+0200'}    28005   \n",
       "1  {'$date': '2017-04-01T01:00:00.000+0200'}    28043   \n",
       "2  {'$date': '2017-04-01T01:00:00.000+0200'}    28053   \n",
       "3  {'$date': '2017-04-01T01:00:00.000+0200'}    28012   \n",
       "4  {'$date': '2017-04-01T01:00:00.000+0200'}    28042   \n",
       "\n",
       "                                               track  \n",
       "0                                                NaN  \n",
       "1                                                NaN  \n",
       "2  {'type': 'FeatureCollection', 'features': [{'g...  \n",
       "3  {'type': 'FeatureCollection', 'features': [{'g...  \n",
       "4  {'type': 'FeatureCollection', 'features': [{'g...  "
      ]
     },
     "execution_count": 4,
     "metadata": {},
     "output_type": "execute_result"
    }
   ],
   "source": [
    "df = pd.io.json.json_normalize(df['unplug_hourTime'][0])\n",
    "df = pd.io.json.json_normalize(df['unplug_hourTime'][0])\n",
    "\n",
    "df.head()"
   ]
  },
  {
   "cell_type": "code",
   "execution_count": null,
   "metadata": {},
   "outputs": [],
   "source": []
  }
 ],
 "metadata": {
  "kernelspec": {
   "display_name": "Python 3",
   "language": "python",
   "name": "python3"
  },
  "language_info": {
   "codemirror_mode": {
    "name": "ipython",
    "version": 3
   },
   "file_extension": ".py",
   "mimetype": "text/x-python",
   "name": "python",
   "nbconvert_exporter": "python",
   "pygments_lexer": "ipython3",
   "version": "3.6.9"
  }
 },
 "nbformat": 4,
 "nbformat_minor": 2
}
